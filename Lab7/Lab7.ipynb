{
 "cells": [
  {
   "cell_type": "markdown",
   "metadata": {},
   "source": [
    "## Метод максимального правдоподобия. Хи-квадрат."
   ]
  },
  {
   "cell_type": "markdown",
   "metadata": {},
   "source": [
    "Необходимо сгенерировать выборку объёмом 100 элементов для нормального распределения $N(x,0,1)$. По сгенерированной выборке оценить параметры $\\mu$ и $\\sigma$ нормального закона методом максимального правдоподобия. В качестве основной гипотезы $H_0$ будем считать, что сгенерированное распределение имеет вид $N(x, \\hat \\mu, \\hat \\omega)$. Проверить основную гипотезу, используя критерий согласия $\\chi^{2}$. В качестве уровня значимости взять $\\alpha = 0.05$. Привести таблицу вычислений $\\chi^{2}$. Исследовать точность (чувствительность) критерия $\\chi^{2} - $ сгенерировать выборки равномерного распределения и распределения Лапласа малого объема (например, 20 элементов). Проверить их на нормальность."
   ]
  },
  {
   "cell_type": "markdown",
   "metadata": {},
   "source": [
    "Подключаем все библиотеки"
   ]
  },
  {
   "cell_type": "code",
   "execution_count": 1,
   "metadata": {},
   "outputs": [],
   "source": [
    "import numpy as np\n",
    "from scipy.stats import laplace, uniform\n",
    "from tabulate import tabulate\n",
    "import scipy.stats as stats\n",
    "import math as m"
   ]
  },
  {
   "cell_type": "markdown",
   "metadata": {},
   "source": [
    "Задаём все необходимые константы"
   ]
  },
  {
   "cell_type": "code",
   "execution_count": 2,
   "metadata": {},
   "outputs": [],
   "source": [
    "sizes = [20, 100]\n",
    "alpha = 0.05\n",
    "p = 1 - alpha"
   ]
  },
  {
   "cell_type": "markdown",
   "metadata": {},
   "source": [
    "Функция, вычисляющая значение $k$ в зависимости от объема выборки"
   ]
  },
  {
   "cell_type": "code",
   "execution_count": 3,
   "metadata": {},
   "outputs": [],
   "source": [
    "def get_k(size):\n",
    "    return m.ceil(1.72 * (size) ** (1/3))"
   ]
  },
  {
   "cell_type": "markdown",
   "metadata": {},
   "source": [
    "Функция, находящая $\\mu~и~\\sigma$, а также число интервалов. С помощью встроенной функции в библиотеку scipy считает $\\chi^{2}$"
   ]
  },
  {
   "cell_type": "code",
   "execution_count": 4,
   "metadata": {},
   "outputs": [],
   "source": [
    "def calculate(distribution):\n",
    "    mu = np.mean(distribution)\n",
    "    sigma = np.std(distribution)\n",
    "\n",
    "    print('mu = ' + str(np.around(mu, decimals=2)))\n",
    "    print('sigma = ' + str(np.around(sigma, decimals=2)))\n",
    "    \n",
    "    limits = np.linspace(-1.1, 1.1, num=k - 1)\n",
    "    chi_2 = stats.chi2.ppf(p, k-1)\n",
    "    print('chi_2 = ' + str(chi_2))\n",
    "    return limits"
   ]
  },
  {
   "cell_type": "markdown",
   "metadata": {},
   "source": [
    "Функция, которая на соответсвующих интервалах вычисляет частоты попадания выборочных элементов и их вероятности"
   ]
  },
  {
   "cell_type": "code",
   "execution_count": 9,
   "metadata": {},
   "outputs": [],
   "source": [
    "def get_n_and_p(distribution, limits, size):\n",
    "    p_list = np.array([])\n",
    "    n_list = np.array([])\n",
    "    \n",
    "    for i in range(-1, len(limits)):\n",
    "        if i != -1:\n",
    "            prev_cdf_val = stats.norm.cdf(limits[i])\n",
    "        else:\n",
    "            prev_cdf_val = 0\n",
    "        if i != len(limits) - 1:\n",
    "            cur_cdf_val = stats.norm.cdf(limits[i+1])\n",
    "        else: \n",
    "            cur_cdf_val = 1 \n",
    "        p_list = np.append(p_list, cur_cdf_val - prev_cdf_val)\n",
    "        if i == -1:\n",
    "            n_list = np.append(n_list, len(distribution[distribution <= limits[0]]))\n",
    "        elif i == len(limits) - 1:\n",
    "            n_list = np.append(n_list, len(distribution[distribution >= limits[-1]]))\n",
    "        else:\n",
    "            n_list = np.append(n_list, len(distribution[(distribution <= limits[i + 1]) & (distribution >= limits[i])]))\n",
    "\n",
    "    result = np.divide(np.multiply((n_list - size * p_list), (n_list - size * p_list)), p_list * size)\n",
    "    return n_list, p_list, result"
   ]
  },
  {
   "cell_type": "markdown",
   "metadata": {},
   "source": [
    "Функция, отрисовывающая таблицу в формате LaTeX"
   ]
  },
  {
   "cell_type": "code",
   "execution_count": 11,
   "metadata": {},
   "outputs": [],
   "source": [
    "def create_table(n_list, p_list, result, size):\n",
    "    \n",
    "    cols = [\"i\", \"limits\", \"n_i\", \"p_i\", \"np_i\", \"n_i - np_i\", \"/frac{(n_i-np_i)^2}{np_i}\"]\n",
    "    rows = []\n",
    "    for i in range(0, len(n_list)):\n",
    "        if i == 0:\n",
    "            boarders = ['-inf', np.around(limits[0], decimals=2)]\n",
    "        elif i == len(n_list) - 1:\n",
    "            boarders = [np.around(limits[-1], decimals=2), 'inf']\n",
    "        else:\n",
    "            boarders = [np.around(limits[i - 1], decimals=2), np.around(limits[i], decimals=2)]\n",
    "\n",
    "        rows.append([i + 1, boarders, n_list[i], np.around(p_list[i], decimals=4), np.around(p_list[i] * size, decimals=2),\n",
    "                 np.around(n_list[i] - size * p_list[i], decimals=2), np.around(result[i], decimals=2)])\n",
    "\n",
    "    rows.append([len(n_list), \"-\", np.sum(n_list), np.around(np.sum(p_list), decimals=4),\n",
    "             np.around(np.sum(p_list * size), decimals=2),\n",
    "             -np.around(np.sum(n_list - size * p_list), decimals=2),\n",
    "             np.around(np.sum(result), decimals=2)])\n",
    "    print(tabulate(rows, cols, tablefmt=\"latex\"))"
   ]
  },
  {
   "cell_type": "markdown",
   "metadata": {},
   "source": [
    "Строим нормальное распределение"
   ]
  },
  {
   "cell_type": "code",
   "execution_count": 12,
   "metadata": {},
   "outputs": [
    {
     "name": "stdout",
     "output_type": "stream",
     "text": [
      "mu = -0.05\n",
      "sigma = 0.95\n",
      "chi_2 = 14.067140449340169\n",
      "\\begin{tabular}{rlrrrrr}\n",
      "\\hline\n",
      "   i & limits         &   n\\_i &    p\\_i &   np\\_i &   n\\_i - np\\_i &   /frac\\{(n\\_i-np\\_i)\\^{}2\\}\\{np\\_i\\} \\\\\n",
      "\\hline\n",
      "   1 & ['-inf', -1.1] &    15 & 0.1357 &  13.57 &         1.43 &                        0.15 \\\\\n",
      "   2 & [-1.1, -0.73]  &     9 & 0.096  &   9.6  &        -0.6  &                        0.04 \\\\\n",
      "   3 & [-0.73, -0.37] &    13 & 0.1253 &  12.53 &         0.47 &                        0.02 \\\\\n",
      "   4 & [-0.37, 0.0]   &    20 & 0.1431 &  14.31 &         5.69 &                        2.27 \\\\\n",
      "   5 & [0.0, 0.37]    &     9 & 0.1431 &  14.31 &        -5.31 &                        1.97 \\\\\n",
      "   6 & [0.37, 0.73]   &     8 & 0.1253 &  12.53 &        -4.53 &                        1.64 \\\\\n",
      "   7 & [0.73, 1.1]    &    14 & 0.096  &   9.6  &         4.4  &                        2.02 \\\\\n",
      "   8 & [1.1, 'inf']   &    12 & 0.1357 &  13.57 &        -1.57 &                        0.18 \\\\\n",
      "   8 & -              &   100 & 1      & 100    &        -0    &                        8.27 \\\\\n",
      "\\hline\n",
      "\\end{tabular}\n"
     ]
    }
   ],
   "source": [
    "k = get_k(sizes[1])\n",
    "distribution = np.random.normal(0, 1, size=sizes[1])\n",
    "limits = calculate(distribution)\n",
    "n_list, p_list, result = get_n_and_p(distribution, limits, sizes[1])\n",
    "create_table(n_list, p_list, result, sizes[1])"
   ]
  },
  {
   "cell_type": "markdown",
   "metadata": {},
   "source": [
    "Проделаем аналогичные выкладки для распределения Лапласа для 20 элементов"
   ]
  },
  {
   "cell_type": "code",
   "execution_count": 13,
   "metadata": {},
   "outputs": [
    {
     "name": "stdout",
     "output_type": "stream",
     "text": [
      "mu = -0.14\n",
      "sigma = 1.01\n",
      "chi_2 = 9.487729036781154\n",
      "\\begin{tabular}{rlrrrrr}\n",
      "\\hline\n",
      "   i & limits         &   n\\_i &    p\\_i &   np\\_i &   n\\_i - np\\_i &   /frac\\{(n\\_i-np\\_i)\\^{}2\\}\\{np\\_i\\} \\\\\n",
      "\\hline\n",
      "   1 & ['-inf', -1.1] &     3 & 0.1357 &   2.71 &         0.29 &                        0.03 \\\\\n",
      "   2 & [-1.1, -0.37]  &     4 & 0.2213 &   4.43 &        -0.43 &                        0.04 \\\\\n",
      "   3 & [-0.37, 0.37]  &     8 & 0.2861 &   5.72 &         2.28 &                        0.91 \\\\\n",
      "   4 & [0.37, 1.1]    &     3 & 0.2213 &   4.43 &        -1.43 &                        0.46 \\\\\n",
      "   5 & [1.1, 'inf']   &     2 & 0.1357 &   2.71 &        -0.71 &                        0.19 \\\\\n",
      "   5 & -              &    20 & 1      &  20    &        -0    &                        1.62 \\\\\n",
      "\\hline\n",
      "\\end{tabular}\n"
     ]
    }
   ],
   "source": [
    "k = get_k(sizes[0])\n",
    "distribution = laplace.rvs(size=sizes[0], scale=1 / m.sqrt(2), loc=0)\n",
    "limits = calculate(distribution)\n",
    "n_list, p_list, result = get_n_and_p(distribution, limits, sizes[0])\n",
    "create_table(n_list, p_list, result, sizes[0])"
   ]
  },
  {
   "cell_type": "markdown",
   "metadata": {},
   "source": [
    "Проделаем аналогичные выкладки для равномерного распределения с 20 элементами"
   ]
  },
  {
   "cell_type": "code",
   "execution_count": 15,
   "metadata": {},
   "outputs": [
    {
     "name": "stdout",
     "output_type": "stream",
     "text": [
      "mu = -0.23\n",
      "sigma = 1.03\n",
      "chi_2 = 9.487729036781154\n",
      "\\begin{tabular}{rlrrrrr}\n",
      "\\hline\n",
      "   i & limits         &   n\\_i &    p\\_i &   np\\_i &   n\\_i - np\\_i &   /frac\\{(n\\_i-np\\_i)\\^{}2\\}\\{np\\_i\\} \\\\\n",
      "\\hline\n",
      "   1 & ['-inf', -1.1] &     5 & 0.1357 &   2.71 &         2.29 &                        1.93 \\\\\n",
      "   2 & [-1.1, -0.37]  &     5 & 0.2213 &   4.43 &         0.57 &                        0.07 \\\\\n",
      "   3 & [-0.37, 0.37]  &     4 & 0.2861 &   5.72 &        -1.72 &                        0.52 \\\\\n",
      "   4 & [0.37, 1.1]    &     4 & 0.2213 &   4.43 &        -0.43 &                        0.04 \\\\\n",
      "   5 & [1.1, 'inf']   &     2 & 0.1357 &   2.71 &        -0.71 &                        0.19 \\\\\n",
      "   5 & -              &    20 & 1      &  20    &        -0    &                        2.75 \\\\\n",
      "\\hline\n",
      "\\end{tabular}\n"
     ]
    }
   ],
   "source": [
    "k = get_k(sizes[0])\n",
    "distribution = uniform.rvs(size=sizes[0], loc=-m.sqrt(3), scale=2 * m.sqrt(3))\n",
    "limits = calculate(distribution)\n",
    "n_list, p_list, result = get_n_and_p(distribution, limits, sizes[0])\n",
    "create_table(n_list, p_list, result, sizes[0])"
   ]
  }
 ],
 "metadata": {
  "kernelspec": {
   "display_name": "Python 3",
   "language": "python",
   "name": "python3"
  },
  "language_info": {
   "codemirror_mode": {
    "name": "ipython",
    "version": 3
   },
   "file_extension": ".py",
   "mimetype": "text/x-python",
   "name": "python",
   "nbconvert_exporter": "python",
   "pygments_lexer": "ipython3",
   "version": "3.8.5"
  }
 },
 "nbformat": 4,
 "nbformat_minor": 4
}
