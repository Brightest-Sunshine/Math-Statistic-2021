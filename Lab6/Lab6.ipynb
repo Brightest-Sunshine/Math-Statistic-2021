{
 "cells": [
  {
   "cell_type": "markdown",
   "metadata": {},
   "source": [
    "# Оценки коэффициентов линейной регрессии"
   ]
  },
  {
   "cell_type": "markdown",
   "metadata": {},
   "source": [
    "Необходимо найти оценки коэффициентов линейной регрессии $y_i = a + bx_i + e_i$ используя 20 точек на отрезке [-1.8; 2] с равномерным шагом равным 0.2. Ошибку $e_i$ считать нормально распределённой с параметрами (0, 1). В качестве эталонной зависимости взять $y_i = 2 + 2x_i + e_i$. При построении оценок коэффициентов использовать два критерия: критерий наименьших квадратов и критерий наименьших модулей. Проделать то же самое для выборки, у которой в значения $y_1$ и $y_{20}$ вносятся возмущения 10 и -10."
   ]
  },
  {
   "cell_type": "markdown",
   "metadata": {},
   "source": [
    "Подключаем все нужные библиотеки"
   ]
  },
  {
   "cell_type": "code",
   "execution_count": 1,
   "metadata": {},
   "outputs": [],
   "source": [
    "import numpy as np\n",
    "from scipy import stats as stats\n",
    "import matplotlib.pyplot as plt\n",
    "import scipy.optimize as opt"
   ]
  },
  {
   "cell_type": "markdown",
   "metadata": {},
   "source": [
    "Эталонная функция:"
   ]
  },
  {
   "cell_type": "code",
   "execution_count": 2,
   "metadata": {},
   "outputs": [],
   "source": [
    "def reference_function(x):\n",
    "    return 2 + 2 * x"
   ]
  },
  {
   "cell_type": "markdown",
   "metadata": {},
   "source": [
    "Добавление шума в эталонную функцию:"
   ]
  },
  {
   "cell_type": "code",
   "execution_count": 3,
   "metadata": {},
   "outputs": [],
   "source": [
    "def reference_noisy_function(x):\n",
    "    y = []\n",
    "    for i in x:\n",
    "        y.append(reference_function(i) + stats.norm.rvs(0, 1))\n",
    "    return y"
   ]
  },
  {
   "cell_type": "markdown",
   "metadata": {},
   "source": [
    "Функция, вычисляющая параметры $\\beta_0$ и $\\beta_1$ МНК"
   ]
  },
  {
   "cell_type": "code",
   "execution_count": 4,
   "metadata": {},
   "outputs": [],
   "source": [
    "def get_mnk_parameters(x, y):\n",
    "    beta_1 = (np.mean(x * y) - np.mean(x) * np.mean(y)) / (np.mean(x * x) - np.mean(x) ** 2)\n",
    "    beta_0 = np.mean(y) - beta_1 * np.mean(x)\n",
    "    return beta_0, beta_1"
   ]
  },
  {
   "cell_type": "markdown",
   "metadata": {},
   "source": [
    "Функция, возвращающая модуль минимизируемой функции"
   ]
  },
  {
   "cell_type": "code",
   "execution_count": 5,
   "metadata": {},
   "outputs": [],
   "source": [
    "def least_modulus_method(parameters, x, y):\n",
    "    alpha_0, alpha_1 = parameters\n",
    "    sum = 0\n",
    "    for i in range(len(x)):\n",
    "        sum += abs(y[i] - alpha_0 - alpha_1 * x[i])\n",
    "    return sum "
   ]
  },
  {
   "cell_type": "markdown",
   "metadata": {},
   "source": [
    "Функция, вычисляющая параметры $\\alpha_0$ и $\\alpha_1$  МНМ"
   ]
  },
  {
   "cell_type": "code",
   "execution_count": 6,
   "metadata": {},
   "outputs": [],
   "source": [
    "def get_mnm_parameters(x, y):\n",
    "    beta_0, beta_1 = get_mnk_parameters(x, y)\n",
    "    result = opt.minimize(least_modulus_method, [beta_0, beta_1], args=(x, y), method='SLSQP')\n",
    "    coefs = result.x\n",
    "    alpha_0, alpha_1 = coefs[0], coefs[1]\n",
    "    return alpha_0, alpha_1"
   ]
  },
  {
   "cell_type": "markdown",
   "metadata": {},
   "source": [
    "Метод наименьших квадратов МНК"
   ]
  },
  {
   "cell_type": "code",
   "execution_count": 7,
   "metadata": {},
   "outputs": [],
   "source": [
    "def MNK(x, y):\n",
    "    beta_0, beta_1 = get_mnk_parameters(x, y)\n",
    "    print('beta_0 = ' + str(beta_0), 'beta_1 = ' + str(beta_1))\n",
    "    y_new = [beta_0 + beta_1 * x_ for x_ in x]\n",
    "    return y_new     "
   ]
  },
  {
   "cell_type": "markdown",
   "metadata": {},
   "source": [
    "Метод наименьших модулей МНМ"
   ]
  },
  {
   "cell_type": "code",
   "execution_count": 8,
   "metadata": {},
   "outputs": [],
   "source": [
    "def MNM(x, y):\n",
    "    alpha_0, alpha_1 = get_mnm_parameters(x, y)\n",
    "    print('alpha_0= ' + str(alpha_0), 'alpha_1 = ' + str(alpha_1))\n",
    "    y_new = [alpha_0 + alpha_1 * x_ for x_ in x]\n",
    "    return y_new   "
   ]
  },
  {
   "cell_type": "markdown",
   "metadata": {},
   "source": [
    "Найдём метрику удалённости:"
   ]
  },
  {
   "cell_type": "code",
   "execution_count": 9,
   "metadata": {},
   "outputs": [],
   "source": [
    "def get_distance(y_model, y_regr):\n",
    "    dist_y = sum([(y_model[i] - y_regr[i])**2 for i in range(len(y_model))])\n",
    "    return dist_y"
   ]
  },
  {
   "cell_type": "markdown",
   "metadata": {},
   "source": [
    "Функция построения линейной регрессии:"
   ]
  },
  {
   "cell_type": "code",
   "execution_count": 15,
   "metadata": {},
   "outputs": [],
   "source": [
    "def plot_linear_regression(text, x, y):\n",
    "    y_mnk = MNK(x, y)\n",
    "    y_mnm = MNM(x, y)\n",
    "    y_dist_mnk = get_distance(y, y_mnk)\n",
    "    y_dist_mnm = get_distance(y, y_mnm)\n",
    "    print('mnk distance', y_dist_mnk)\n",
    "    print('mnm distance', y_dist_mnm)\n",
    "    plt.plot(x, reference_function(x), color='red', label='Модель')\n",
    "    plt.plot(x, y_mnk, label=\"МНК\", color='pink')\n",
    "    plt.plot(x, y_mnm, label=\"МНМ\", color='orange')\n",
    "    plt.scatter(x, y, c='darkorchid', label='Выборка')\n",
    "    plt.xlim([-1.8, 2])\n",
    "    plt.grid()\n",
    "    plt.legend()\n",
    "    plt.savefig(text + '.jpg', format='jpg')\n",
    "    plt.show()"
   ]
  },
  {
   "cell_type": "code",
   "execution_count": 16,
   "metadata": {},
   "outputs": [
    {
     "name": "stdout",
     "output_type": "stream",
     "text": [
      "beta_0 = 2.2146890622970634 beta_1 = 1.5507005125552462\n",
      "alpha_0= 2.0362371588010735 alpha_1 = 1.781797611857049\n",
      "mnk distance 13.23373624647887\n",
      "mnm distance 15.056446622014489\n"
     ]
    },
    {
     "data": {
      "image/png": "[encoded data removed]",
      "text/plain": [
       "<Figure size 432x288 with 1 Axes>"
      ]
     },
     "metadata": {
      "needs_background": "light"
     },
     "output_type": "display_data"
    }
   ],
   "source": [
    "x = np.arange(-1.8, 2, 0.2)\n",
    "y = reference_noisy_function(x)\n",
    "plot_linear_regression('NoPerturbations', x, y)"
   ]
  },
  {
   "cell_type": "code",
   "execution_count": 17,
   "metadata": {},
   "outputs": [
    {
     "name": "stdout",
     "output_type": "stream",
     "text": [
      "beta_0 = 1.855582473298942 beta_1 = 0.18479128096694492\n",
      "alpha_0= 1.7129359746324313 alpha_1 = 1.6270105003930289\n",
      "mnk distance 180.00277678068636\n",
      "mnm distance 227.81330434165\n"
     ]
    },
    {
     "data": {
      "image/png": "[encoded data removed]",
      "text/plain": [
       "<Figure size 432x288 with 1 Axes>"
      ]
     },
     "metadata": {
      "needs_background": "light"
     },
     "output_type": "display_data"
    }
   ],
   "source": [
    "x = np.arange(-1.8, 2, 0.2)\n",
    "y = reference_noisy_function(x)\n",
    "y[0] += 10\n",
    "y[-1] -= 10\n",
    "plot_linear_regression('Perturbations', x, y)"
   ]
  }
 ],
 "metadata": {
  "kernelspec": {
   "display_name": "Python 3",
   "language": "python",
   "name": "python3"
  },
  "language_info": {
   "codemirror_mode": {
    "name": "ipython",
    "version": 3
   },
   "file_extension": ".py",
   "mimetype": "text/x-python",
   "name": "python",
   "nbconvert_exporter": "python",
   "pygments_lexer": "ipython3",
   "version": "3.8.5"
  }
 },
 "nbformat": 4,
 "nbformat_minor": 4
}
