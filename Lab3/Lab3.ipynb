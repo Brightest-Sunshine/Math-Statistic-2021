{
 "cells": [
  {
   "cell_type": "markdown",
   "metadata": {},
   "source": [
    "# Боксплот Тьюки"
   ]
  },
  {
   "cell_type": "markdown",
   "metadata": {},
   "source": [
    "Необходимо сгенерировать выборки размером 20 и 100 элементов. Построить для них боксплот Тьюки. Для каждого распределения определить долю выбросов экспериментально (сгенерировав выборку, соответсвующую распределению 1000 раз, и вычислив среднюю долю выбросов) и сравнить с результатами, полученными теоретически. "
   ]
  },
  {
   "cell_type": "markdown",
   "metadata": {},
   "source": [
    "Подключаем все необходимые библиотеки"
   ]
  },
  {
   "cell_type": "code",
   "execution_count": 1,
   "metadata": {},
   "outputs": [],
   "source": [
    "from scipy.stats import norm, laplace, poisson, cauchy, uniform\n",
    "import numpy as np\n",
    "import math as m\n",
    "import seaborn as sns\n",
    "import matplotlib.pyplot as plt"
   ]
  },
  {
   "cell_type": "code",
   "execution_count": 2,
   "metadata": {},
   "outputs": [],
   "source": [
    "sizes = [20, 100]\n",
    "NORMAL, CAUCHY, LAPLACE, POISSON, UNIFORM = \"NormalNumber\", \"CauchyNumber\", \"LaplaceNumber\", \"PoissonNumber\", \"UniformNumber\"\n",
    "NUMBER_OF_REPETITIONS = 1000\n",
    "STR_1, STR_2 = 'Доля выбросов выборки из 20 элементов: ', 'Доля выбросов выборки из 100 элементов: '\n",
    "EXPANSION = '.jpg'"
   ]
  },
  {
   "cell_type": "markdown",
   "metadata": {},
   "source": [
    "Функция, вычисляющая длину усов"
   ]
  },
  {
   "cell_type": "code",
   "execution_count": 3,
   "metadata": {},
   "outputs": [],
   "source": [
    "def moustache(distribution):\n",
    "    q_1, q_3 = np.quantile(distribution, [0.25, 0.75])\n",
    "    return q_1 - 3 / 2 * (q_3 - q_1), q_3 + 3 / 2 * (q_3 - q_1)"
   ]
  },
  {
   "cell_type": "markdown",
   "metadata": {},
   "source": [
    "Функция, выдающая количество найденных выбросов"
   ]
  },
  {
   "cell_type": "code",
   "execution_count": 4,
   "metadata": {},
   "outputs": [],
   "source": [
    "def count_out(distribution):\n",
    "    x1, x2 = moustache(distribution)\n",
    "    filtered = [x for x in distribution if x > x2 or x < x1]\n",
    "    return len(filtered)"
   ]
  },
  {
   "cell_type": "markdown",
   "metadata": {},
   "source": [
    "Функция, отрисовывающая графики Боксплот Тьюки"
   ]
  },
  {
   "cell_type": "code",
   "execution_count": 5,
   "metadata": {},
   "outputs": [],
   "source": [
    "def DrawBoxplot(tips, name):\n",
    "    sns.set_theme(style=\"whitegrid\")    \n",
    "    sns.boxplot(data=tips, palette='rainbow', orient='h');\n",
    "    sns.despine(offset=10)\n",
    "    plt.xlabel(\"x\")\n",
    "    plt.ylabel(\"n\")\n",
    "    plt.title(name)\n",
    "    plt.savefig(str(name)+EXPANSION)    \n",
    "    return"
   ]
  },
  {
   "cell_type": "markdown",
   "metadata": {},
   "source": [
    "Функция вывода ответа на экран"
   ]
  },
  {
   "cell_type": "code",
   "execution_count": 6,
   "metadata": {},
   "outputs": [],
   "source": [
    "def printAnswer(result):\n",
    "    print(STR_1 + str(result[0]))\n",
    "    print(STR_2 + str(result[1]))"
   ]
  },
  {
   "cell_type": "markdown",
   "metadata": {},
   "source": [
    "Функция построения Боксплот Тьюки и высчитывания доли выбросов для нормального распределения"
   ]
  },
  {
   "cell_type": "code",
   "execution_count": 7,
   "metadata": {},
   "outputs": [
    {
     "name": "stdout",
     "output_type": "stream",
     "text": [
      "Доля выбросов выборки из 20 элементов: 0.02315\n",
      "Доля выбросов выборки из 100 элементов: 0.01432\n"
     ]
    },
    {
     "data": {
      "image/png": "[encoded data removed]",
      "text/plain": [
       "<Figure size 432x288 with 1 Axes>"
      ]
     },
     "metadata": {},
     "output_type": "display_data"
    }
   ],
   "source": [
    "def NormalBoxplotTukey():\n",
    "    tips, result, count = [], [], 0\n",
    "    for size in sizes:\n",
    "        for i in range(NUMBER_OF_REPETITIONS):\n",
    "            distribution = norm.rvs(size=size)\n",
    "            distribution.sort()\n",
    "            count += count_out(distribution)\n",
    "        result.append(count/(size * NUMBER_OF_REPETITIONS))\n",
    "        distribution = norm.rvs(size=size)\n",
    "        distribution.sort()\n",
    "        tips.append(distribution)\n",
    "    DrawBoxplot(tips, NORMAL)  \n",
    "    printAnswer(result)\n",
    "    return\n",
    "\n",
    "NormalBoxplotTukey()"
   ]
  },
  {
   "cell_type": "markdown",
   "metadata": {},
   "source": [
    "Функция построения Боксплот Тьюки и высчитывания доли выбросов для распределения Коши"
   ]
  },
  {
   "cell_type": "code",
   "execution_count": 9,
   "metadata": {},
   "outputs": [
    {
     "name": "stdout",
     "output_type": "stream",
     "text": [
      "Доля выбросов выборки из 20 элементов: 0.15225\n",
      "Доля выбросов выборки из 100 элементов: 0.18491\n"
     ]
    },
    {
     "data": {
      "image/png": "[encoded data removed]",
      "text/plain": [
       "<Figure size 432x288 with 1 Axes>"
      ]
     },
     "metadata": {},
     "output_type": "display_data"
    }
   ],
   "source": [
    "def CauchyBoxplotTukey():\n",
    "    tips, result, count = [], [], 0\n",
    "    for size in sizes:\n",
    "        for i in range(NUMBER_OF_REPETITIONS):\n",
    "            distribution = cauchy.rvs(size=size)\n",
    "            distribution.sort()\n",
    "            count += count_out(distribution)\n",
    "        result.append(count/(size * NUMBER_OF_REPETITIONS))\n",
    "        distribution = cauchy.rvs(size=size)\n",
    "        distribution.sort()\n",
    "        tips.append(distribution)\n",
    "    DrawBoxplot(tips, CAUCHY)  \n",
    "    printAnswer(result)\n",
    "    return\n",
    "\n",
    "CauchyBoxplotTukey()"
   ]
  },
  {
   "cell_type": "markdown",
   "metadata": {},
   "source": [
    "Функция построения Боксплот Тьюки и высчитывания доли выбросов для распределения Лапласа"
   ]
  },
  {
   "cell_type": "code",
   "execution_count": 10,
   "metadata": {},
   "outputs": [
    {
     "name": "stdout",
     "output_type": "stream",
     "text": [
      "Доля выбросов выборки из 20 элементов: 0.0728\n",
      "Доля выбросов выборки из 100 элементов: 0.0796\n"
     ]
    },
    {
     "data": {
      "image/png": "[encoded data removed]",
      "text/plain": [
       "<Figure size 432x288 with 1 Axes>"
      ]
     },
     "metadata": {},
     "output_type": "display_data"
    }
   ],
   "source": [
    "def LaplaceBoxplotTukey():\n",
    "    tips, result, count = [], [], 0\n",
    "    for size in sizes:\n",
    "        for i in range(NUMBER_OF_REPETITIONS):\n",
    "            distribution = laplace.rvs(size=size, scale=1 / m.sqrt(2), loc=0)\n",
    "            distribution.sort()\n",
    "            count += count_out(distribution)\n",
    "        result.append(count/(size * NUMBER_OF_REPETITIONS))\n",
    "        distribution = laplace.rvs(size=size, scale=1 / m.sqrt(2), loc=0)\n",
    "        distribution.sort()\n",
    "        tips.append(distribution)\n",
    "    DrawBoxplot(tips, LAPLACE)  \n",
    "    printAnswer(result)\n",
    "    return\n",
    "\n",
    "LaplaceBoxplotTukey()"
   ]
  },
  {
   "cell_type": "markdown",
   "metadata": {},
   "source": [
    "Функция построения Боксплот Тьюки и высчитывания доли выбросов для распределения Пуассона"
   ]
  },
  {
   "cell_type": "code",
   "execution_count": 11,
   "metadata": {},
   "outputs": [
    {
     "name": "stdout",
     "output_type": "stream",
     "text": [
      "Доля выбросов выборки из 20 элементов: 0.02185\n",
      "Доля выбросов выборки из 100 элементов: 0.01527\n"
     ]
    },
    {
     "data": {
      "image/png": "[encoded data removed]",
      "text/plain": [
       "<Figure size 432x288 with 1 Axes>"
      ]
     },
     "metadata": {},
     "output_type": "display_data"
    }
   ],
   "source": [
    "def PoissonBoxplotTukey():\n",
    "    tips, result, count = [], [], 0\n",
    "    for size in sizes:\n",
    "        for i in range(NUMBER_OF_REPETITIONS):\n",
    "            distribution = poisson.rvs(10, size=size)\n",
    "            distribution.sort()\n",
    "            count += count_out(distribution)\n",
    "        result.append(count/(size * NUMBER_OF_REPETITIONS))\n",
    "        distribution = poisson.rvs(10, size=size)\n",
    "        distribution.sort()\n",
    "        tips.append(distribution)\n",
    "    DrawBoxplot(tips, POISSON)  \n",
    "    printAnswer(result)\n",
    "    return\n",
    "\n",
    "PoissonBoxplotTukey()"
   ]
  },
  {
   "cell_type": "markdown",
   "metadata": {},
   "source": [
    "Функция построения Боксплот Тьюки и высчитывания доли выбросов для равномерного распределения"
   ]
  },
  {
   "cell_type": "code",
   "execution_count": 12,
   "metadata": {},
   "outputs": [
    {
     "name": "stdout",
     "output_type": "stream",
     "text": [
      "Доля выбросов выборки из 20 элементов: 0.00335\n",
      "Доля выбросов выборки из 100 элементов: 0.00067\n"
     ]
    },
    {
     "data": {
      "image/png": "[encoded data removed]",
      "text/plain": [
       "<Figure size 432x288 with 1 Axes>"
      ]
     },
     "metadata": {},
     "output_type": "display_data"
    }
   ],
   "source": [
    "def UniformBoxplotTukey():\n",
    "    tips, result, count = [], [], 0\n",
    "    for size in sizes:\n",
    "        for i in range(NUMBER_OF_REPETITIONS):\n",
    "            distribution = uniform.rvs(size=size, loc=-m.sqrt(3), scale=2 * m.sqrt(3))\n",
    "            distribution.sort()\n",
    "            count += count_out(distribution)\n",
    "        result.append(count/(size * NUMBER_OF_REPETITIONS))\n",
    "        distribution = uniform.rvs(size=size, loc=-m.sqrt(3), scale=2 * m.sqrt(3))\n",
    "        distribution.sort()\n",
    "        tips.append(distribution)\n",
    "    DrawBoxplot(tips, UNIFORM)  \n",
    "    printAnswer(result)\n",
    "    return\n",
    "\n",
    "UniformBoxplotTukey()"
   ]
  }
 ],
 "metadata": {
  "kernelspec": {
   "display_name": "Python 3",
   "language": "python",
   "name": "python3"
  },
  "language_info": {
   "codemirror_mode": {
    "name": "ipython",
    "version": 3
   },
   "file_extension": ".py",
   "mimetype": "text/x-python",
   "name": "python",
   "nbconvert_exporter": "python",
   "pygments_lexer": "ipython3",
   "version": "3.8.5"
  }
 },
 "nbformat": 4,
 "nbformat_minor": 4
}
