{
 "cells": [
  {
   "cell_type": "markdown",
   "metadata": {},
   "source": [
    "## Критерий Фишера"
   ]
  },
  {
   "cell_type": "markdown",
   "metadata": {},
   "source": [
    "Необходимо провести дисперсионный анализ с применением критерия Фишера по данным регистраторов для одного сигнала. Определить области однородности сигнала, переходные области, шум/фон. Длину сигнала взять равной 1024."
   ]
  },
  {
   "cell_type": "markdown",
   "metadata": {},
   "source": [
    "Подключаем все нужные библиотеки:"
   ]
  },
  {
   "cell_type": "code",
   "execution_count": 1,
   "metadata": {},
   "outputs": [],
   "source": [
    "import numpy as np\n",
    "import matplotlib.pyplot as plt\n",
    "import math"
   ]
  },
  {
   "cell_type": "markdown",
   "metadata": {},
   "source": [
    "Функция, которая открывает файл wave_ampl.txt и считывает данные"
   ]
  },
  {
   "cell_type": "code",
   "execution_count": 2,
   "metadata": {},
   "outputs": [],
   "source": [
    "def read_signal(filename):\n",
    "    data = []\n",
    "    # открываем файл в формате чтения\n",
    "    with open(filename, 'r') as f:\n",
    "        for line in f.readlines():\n",
    "            # если в прочитанных строках содержатся скобочки, удаляем их\n",
    "            remove_dirst_str = line.replace(\"[\", \"\")\n",
    "            remove_next_str = remove_dirst_str.replace(\"]\", \"\")\n",
    "            data.append(remove_next_str.split(\", \"))\n",
    "\n",
    "    # переводим данные в вещественный формат\n",
    "    data_float_format = []\n",
    "    for item in data:\n",
    "        data_float_format.append([float(x) for x in item])\n",
    "\n",
    "    new_data = np.asarray(data_float_format)\n",
    "    # изменяем размер массива\n",
    "    data = np.reshape(new_data, (new_data.shape[1] // 1024, 1024))\n",
    "    \n",
    "    return data[0]\n"
   ]
  },
  {
   "cell_type": "markdown",
   "metadata": {},
   "source": [
    "Функция, отрисовывающая сигнал"
   ]
  },
  {
   "cell_type": "code",
   "execution_count": 57,
   "metadata": {},
   "outputs": [],
   "source": [
    "def draw_signal(signal, title):\n",
    "    plt.title(title)\n",
    "    plt.plot(range(len(signal)), signal, 'deepskyblue')\n",
    "    plt.grid()\n",
    "    plt.show()\n",
    "    plt.savefig(\"signal_plot.jpg\")"
   ]
  },
  {
   "cell_type": "markdown",
   "metadata": {},
   "source": [
    "Функция, отрисовывающая гистограмму"
   ]
  },
  {
   "cell_type": "code",
   "execution_count": 58,
   "metadata": {},
   "outputs": [],
   "source": [
    "def draw_hist(signal):\n",
    "    bin = int(math.log2(len(signal) + 1))\n",
    "    hist = plt.hist(signal, bins=bin, color='deepskyblue')\n",
    "    plt.grid()\n",
    "    plt.title(\"Гистограмма сигнала\")\n",
    "    plt.savefig(\"hist.jpg\")\n",
    "    plt.show()\n",
    "    return bin, hist"
   ]
  },
  {
   "cell_type": "markdown",
   "metadata": {},
   "source": [
    "Функция, определяющая в сигнале переходы, шум, сигнал"
   ]
  },
  {
   "cell_type": "code",
   "execution_count": 39,
   "metadata": {},
   "outputs": [],
   "source": [
    "def get_areas(signal):\n",
    "    bin = int(math.log2(len(signal) + 1))\n",
    "    hist = plt.hist(signal, bins=bin)\n",
    "    plt.title(\"Histogram\")\n",
    "    \n",
    "    count = []\n",
    "    start = []\n",
    "    finish = []\n",
    "    types = [0] * bin\n",
    "\n",
    "    for i in range(bin):\n",
    "        count.append(hist[0][i])\n",
    "        start.append(hist[1][i])\n",
    "        finish.append(hist[1][i + 1])\n",
    "\n",
    "    sortedHist = sorted(count)\n",
    "    repeat = 0\n",
    "    for i in range(bin):\n",
    "        for j in range(bin):\n",
    "            if sortedHist[len(sortedHist) - 1 - i] == count[j]:\n",
    "                if repeat == 0:\n",
    "                    types[j] = \"фон\"\n",
    "                elif repeat == 1:\n",
    "                    types[j] = \"сигнал\"\n",
    "                else:\n",
    "                    types[j] = \"переход\"\n",
    "                repeat += 1\n",
    "\n",
    "    return start, finish, types"
   ]
  },
  {
   "cell_type": "markdown",
   "metadata": {},
   "source": [
    "Функция, конвертирующая данные"
   ]
  },
  {
   "cell_type": "code",
   "execution_count": 40,
   "metadata": {},
   "outputs": [],
   "source": [
    "def get_converted_data(signal, start, finish, types):\n",
    "    signal_types = [0] * len(signal)\n",
    "    zones = []\n",
    "    zones_type = []\n",
    "\n",
    "    for i in range(len(signal)):\n",
    "        for j in range(len(types)):\n",
    "            if (signal[i] >= start[j]) and (signal[i] <= finish[j]):\n",
    "                signal_types[i] = types[j]\n",
    "\n",
    "    currType = signal_types[0]\n",
    "    start = 0\n",
    "    for i in range(len(signal_types)):\n",
    "        if currType != signal_types[i]:\n",
    "            finish = i\n",
    "            zones_type.append(currType)\n",
    "            zones.append([start, finish])\n",
    "            start = finish\n",
    "            currType = signal_types[i]\n",
    "\n",
    "    if currType != zones_type[len(zones_type) - 1]:\n",
    "        zones_type.append(currType)\n",
    "        zones.append([finish, len(signal) - 1])\n",
    "\n",
    "    return zones, zones_type, get_signal_data(signal, zones)"
   ]
  },
  {
   "cell_type": "code",
   "execution_count": 41,
   "metadata": {},
   "outputs": [],
   "source": [
    "def get_signal_data(signal, zones):\n",
    "    signal_data = list()\n",
    "    for borders in zones:\n",
    "        data_part = list()\n",
    "        for j in range(borders[0], borders[1]):\n",
    "            data_part.append(signal[j])\n",
    "        signal_data.append(data_part)\n",
    "    return signal_data"
   ]
  },
  {
   "cell_type": "markdown",
   "metadata": {},
   "source": [
    "Функция, отрисовывающая разделённые области"
   ]
  },
  {
   "cell_type": "code",
   "execution_count": 42,
   "metadata": {},
   "outputs": [],
   "source": [
    "def draw_areas(signal_data, area_data, types, title):\n",
    "    plt.title(title)\n",
    "    plt.ylim([-0.5, 0])\n",
    "    for i in range(len(area_data)):\n",
    "        if types[i] == \"фон\":\n",
    "            color_ = 'y'\n",
    "        if types[i] == \"сигнал\":\n",
    "            color_ = 'r'\n",
    "        if types[i] == \"переход\":\n",
    "            color_ = 'g'\n",
    "        print(types)\n",
    "        plt.plot([num for num in range(area_data[i][0], area_data[i][1], 1)], signal_data[i], color=color_, label=types[i])\n",
    "    plt.grid()\n",
    "    plt.legend()\n",
    "    plt.show()"
   ]
  },
  {
   "cell_type": "markdown",
   "metadata": {},
   "source": [
    "Блок кода, вычисляющий оценку Фишера"
   ]
  },
  {
   "cell_type": "code",
   "execution_count": 43,
   "metadata": {},
   "outputs": [],
   "source": [
    "def get_inter_group_D(signal):\n",
    "    summ = 0.0\n",
    "    mean = np.empty(signal.shape[0])\n",
    "    for i in range(len(signal)):\n",
    "        mean[i] = np.mean(signal[i])\n",
    "    meanMean = np.mean(mean)\n",
    "\n",
    "    for i in range(len(mean)):\n",
    "        summ += (mean[i] - meanMean) ** 2\n",
    "    summ /= (signal.shape[0] - 1)\n",
    "\n",
    "    return len(signal) * summ\n",
    "\n",
    "\n",
    "def get_intar_group_D(signal):\n",
    "    result = 0.0\n",
    "    for i in range(signal.shape[0]):\n",
    "        mean = np.mean(signal[i])\n",
    "        summ = 0.0\n",
    "        for j in range(signal.shape[1]):\n",
    "            summ += (signal[i][j] - mean) ** 2\n",
    "        summ /= (signal.shape[0] - 1)\n",
    "        result += summ\n",
    "\n",
    "    return result / signal.shape[0]\n",
    "\n",
    "\n",
    "def get_F(signal, k):\n",
    "    newSizeY = int(signal.size / k)\n",
    "    newSizeX = k\n",
    "    print(\"k = \" + str(k))\n",
    "    splitData = np.reshape(signal, (newSizeX, newSizeY))\n",
    "    interGroup = get_inter_group_D(splitData)\n",
    "    print(\"Inter = \" + str(interGroup))\n",
    "    intraGroup = get_intar_group_D(splitData)\n",
    "    print(\"Intar = \" + str(intraGroup))\n",
    "    print(\"F = \" + str(interGroup / intraGroup))\n",
    "    return interGroup / intraGroup\n",
    "\n",
    "\n",
    "def get_K(num):\n",
    "    i = 4\n",
    "    while num % i != 0:\n",
    "        i += 1\n",
    "    return i\n",
    "\n",
    "\n",
    "def get_Fisher(signal, area_data):\n",
    "    fishers = []\n",
    "    for i in range(len(area_data)):\n",
    "        start = area_data[i][0]\n",
    "        finish = area_data[i][1]\n",
    "        k = get_K(finish - start)\n",
    "        while k == finish - start:\n",
    "            finish += 1\n",
    "            k = get_K(finish - start)\n",
    "        fishers.append(get_F(signal[start:finish], int(k)))\n",
    "    return fishers"
   ]
  },
  {
   "cell_type": "markdown",
   "metadata": {},
   "source": [
    "Блок вызова функций, написанных ранее"
   ]
  },
  {
   "cell_type": "code",
   "execution_count": 59,
   "metadata": {
    "scrolled": true
   },
   "outputs": [
    {
     "data": {
      "image/png": "[encoded data removed]",
      "text/plain": [
       "<Figure size 432x288 with 1 Axes>"
      ]
     },
     "metadata": {
      "needs_background": "light"
     },
     "output_type": "display_data"
    },
    {
     "data": {
      "image/png": "[encoded data removed]",
      "text/plain": [
       "<Figure size 432x288 with 1 Axes>"
      ]
     },
     "metadata": {
      "needs_background": "light"
     },
     "output_type": "display_data"
    },
    {
     "name": "stdout",
     "output_type": "stream",
     "text": [
      "k = 6\n",
      "Inter = 0.00010475856345700058\n",
      "Intar = 0.000216008479603863\n",
      "F = 0.484974310495203\n",
      "k = 6\n",
      "Inter = 0.1036660945206072\n",
      "Intar = 0.0006086543661478382\n",
      "F = 170.32013616645506\n",
      "k = 19\n",
      "Inter = 0.0006849222007922233\n",
      "Intar = 1.640848685419312e-05\n",
      "F = 41.74194774195125\n",
      "k = 5\n",
      "Inter = 0.08749951290796942\n",
      "Intar = 0.0013511772233167946\n",
      "F = 64.75798392543985\n",
      "k = 4\n",
      "Inter = 7.540779174496053e-05\n",
      "Intar = 0.0003486853901846047\n",
      "F = 0.21626312391533625\n",
      "[0.484974310495203, 170.32013616645506, 41.74194774195125, 64.75798392543985, 0.21626312391533625]\n",
      "['фон', 'переход', 'сигнал', 'переход', 'фон']\n",
      "['фон', 'переход', 'сигнал', 'переход', 'фон']\n",
      "['фон', 'переход', 'сигнал', 'переход', 'фон']\n",
      "['фон', 'переход', 'сигнал', 'переход', 'фон']\n",
      "['фон', 'переход', 'сигнал', 'переход', 'фон']\n"
     ]
    },
    {
     "data": {
      "image/png": "[encoded data removed]",
      "text/plain": [
       "<Figure size 432x288 with 1 Axes>"
      ]
     },
     "metadata": {
      "needs_background": "light"
     },
     "output_type": "display_data"
    },
    {
     "name": "stdout",
     "output_type": "stream",
     "text": [
      "[[0, 258], [258, 311], [311, 748], [748, 803], [803, 1023]]\n"
     ]
    }
   ],
   "source": [
    "signal = read_signal(\"wave_ampl.txt\")\n",
    "draw_signal(signal, 'Сигнал')\n",
    "draw_hist(signal)\n",
    "start, finish, types = get_areas(signal)\n",
    "zones, zones_types, signal_data = get_converted_data(signal, start, finish, types)\n",
    "print(get_Fisher(signal, zones))\n",
    "types = ['фон', 'переход', 'сигнал', 'переход', 'фон']\n",
    "draw_areas(signal_data, zones, types, \"Разделенные области для сигнала без выбросов\")\n",
    "print(zones)"
   ]
  }
 ],
 "metadata": {
  "kernelspec": {
   "display_name": "Python 3",
   "language": "python",
   "name": "python3"
  },
  "language_info": {
   "codemirror_mode": {
    "name": "ipython",
    "version": 3
   },
   "file_extension": ".py",
   "mimetype": "text/x-python",
   "name": "python",
   "nbconvert_exporter": "python",
   "pygments_lexer": "ipython3",
   "version": "3.8.5"
  }
 },
 "nbformat": 4,
 "nbformat_minor": 4
}
