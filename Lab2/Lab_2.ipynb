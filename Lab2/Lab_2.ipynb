{
 "cells": [
  {
   "cell_type": "markdown",
   "metadata": {},
   "source": [
    "# Характеристики положения и рассеяния"
   ]
  },
  {
   "cell_type": "markdown",
   "metadata": {},
   "source": [
    "Необходимо сгенерировать выборки размером 10, 100, 1000 элементов. Для каждой выборки вычислить следующие статистические характеристики:\n",
    "\n",
    "1. выборочное среднее\n",
    "2. выборочная медиана\n",
    "3. полусумма экстремальных выборочных элементов\n",
    "4. полусумма квартилей\n",
    "5. усечённое среднее\n",
    "\n",
    "Повторить такие вычисления 1000 раз для каждой выборки и найти среднее характеристик положения их квадратов. Вычислить оценку дисперсии. Представить полученные данные в виде таблиц."
   ]
  },
  {
   "cell_type": "code",
   "execution_count": 93,
   "metadata": {},
   "outputs": [],
   "source": [
    "from scipy.stats import norm, laplace, poisson, cauchy, uniform\n",
    "import numpy as np\n",
    "import math as m"
   ]
  },
  {
   "cell_type": "code",
   "execution_count": 94,
   "metadata": {},
   "outputs": [],
   "source": [
    "sizes = [10, 100, 1000]\n",
    "NORMAL, CAUCHY, LAPLACE, POISSON, UNIFORM = \"NormalNumber\", \"CauchyNumber\", \"LaplaceNumber\", \"PoissonNumber\", \"UniformNumber\"\n",
    "NUMBER_OF_REPETITIONS = 1000"
   ]
  },
  {
   "cell_type": "markdown",
   "metadata": {},
   "source": [
    "Функция вычисления выборочного среднего"
   ]
  },
  {
   "cell_type": "code",
   "execution_count": 95,
   "metadata": {},
   "outputs": [],
   "source": [
    "def mean(selection):\n",
    "    return np.mean(selection)"
   ]
  },
  {
   "cell_type": "markdown",
   "metadata": {},
   "source": [
    "Функция вычисления выборочной медианы"
   ]
  },
  {
   "cell_type": "code",
   "execution_count": 96,
   "metadata": {},
   "outputs": [],
   "source": [
    "def med(selection):\n",
    "    return np.median(selection)"
   ]
  },
  {
   "cell_type": "markdown",
   "metadata": {},
   "source": [
    "Функция вычисления полусуммы экстремальных выборочных элементов"
   ]
  },
  {
   "cell_type": "code",
   "execution_count": 97,
   "metadata": {},
   "outputs": [],
   "source": [
    "def z_R(selection, size):\n",
    "    z_R = (selection[0] + selection[size - 1]) / 2\n",
    "    return z_R"
   ]
  },
  {
   "cell_type": "markdown",
   "metadata": {},
   "source": [
    "Функция вычисления выборочной квартили порядка р"
   ]
  },
  {
   "cell_type": "code",
   "execution_count": 98,
   "metadata": {},
   "outputs": [],
   "source": [
    "def z_p(selection, np):\n",
    "    if np.is_integer():\n",
    "        return selection[int(np)]\n",
    "    else:\n",
    "        return selection[int(np) + 1]"
   ]
  },
  {
   "cell_type": "markdown",
   "metadata": {},
   "source": [
    "Функция вычисления полусуммы квартилей"
   ]
  },
  {
   "cell_type": "code",
   "execution_count": 99,
   "metadata": {},
   "outputs": [],
   "source": [
    "def z_Q(selection, size):\n",
    "    z_1 = z_p(selection, size / 4)\n",
    "    z_2 = z_p(selection, 3 * size / 4)\n",
    "    return (z_1 + z_2) / 2"
   ]
  },
  {
   "cell_type": "markdown",
   "metadata": {},
   "source": [
    "Функция вычисления усечённого среднего"
   ]
  },
  {
   "cell_type": "code",
   "execution_count": 100,
   "metadata": {},
   "outputs": [],
   "source": [
    "def z_tr(selection, size):\n",
    "    r = int(size / 4)\n",
    "    sum = 0\n",
    "    for i in range(r + 1, size - r + 1):\n",
    "        sum += selection[i]\n",
    "    return (1 / (size - 2 * r)) * sum "
   ]
  },
  {
   "cell_type": "markdown",
   "metadata": {},
   "source": [
    "Функция вычисления дисперсии"
   ]
  },
  {
   "cell_type": "code",
   "execution_count": 101,
   "metadata": {},
   "outputs": [],
   "source": [
    "def dispersion(selection):\n",
    "    return np.std(selection) ** 2 "
   ]
  },
  {
   "cell_type": "markdown",
   "metadata": {},
   "source": [
    "Функция построения таблицы для нормального распределения"
   ]
  },
  {
   "cell_type": "code",
   "execution_count": 102,
   "metadata": {},
   "outputs": [
    {
     "name": "stdout",
     "output_type": "stream",
     "text": [
      "[-0.003187, -0.000115, -0.0247, 0.308567, 0.277825]\n",
      "[0.102966, 0.140946, 0.191103, 0.129026, 0.120587]\n",
      "[0.003066, 0.000346, 0.023303, 0.019601, 0.027897]\n",
      "[0.009639, 0.015394, 0.092588, 0.011958, 0.011553]\n",
      "[0.000514, 0.000249, 0.006689, 0.003727, 0.003675]\n",
      "[0.001052, 0.001765, 0.064693, 0.001353, 0.001355]\n"
     ]
    }
   ],
   "source": [
    "def NormalNumbers():\n",
    "    for size in sizes:\n",
    "        mean_list, med_list, z_R_list, z_Q_list, z_tr_list = [], [], [], [], []\n",
    "        all_list = [mean_list, med_list, z_R_list, z_Q_list, z_tr_list]\n",
    "        E, D = [], []    \n",
    "        for i in range(NUMBER_OF_REPETITIONS):\n",
    "            distribution = norm.rvs(size=size)\n",
    "            distribution.sort()\n",
    "            mean_list.append(mean(distribution))\n",
    "            med_list.append(med(distribution))\n",
    "            z_R_list.append(z_R(distribution, size))\n",
    "            z_Q_list.append(z_Q(distribution, size))\n",
    "            z_tr_list.append(z_tr(distribution, size))\n",
    "        for lis in all_list:\n",
    "            E.append(round(mean(lis), 6))\n",
    "            D.append(round(dispersion(lis), 6))\n",
    "        print(E)\n",
    "        print(D)\n",
    "    return\n",
    "NormalNumbers()"
   ]
  },
  {
   "cell_type": "markdown",
   "metadata": {},
   "source": [
    "Функция построения таблицы для распределения Коши"
   ]
  },
  {
   "cell_type": "code",
   "execution_count": 103,
   "metadata": {},
   "outputs": [
    {
     "name": "stdout",
     "output_type": "stream",
     "text": [
      "[0.979135, -0.01825, 5.022521, 1.276069, 0.745008]\n",
      "[1550.202178, 0.335254, 38434.691641, 20.479952, 3.435703]\n",
      "[0.621373, -0.004278, 32.95601, 0.027616, 0.033263]\n",
      "[274.894228, 0.026903, 664969.781226, 0.054183, 0.028593]\n",
      "[0.092996, -0.001509, 43.414922, 0.001244, 0.001925]\n",
      "[513.764924, 0.002347, 126177909.448292, 0.00476, 0.002434]\n"
     ]
    }
   ],
   "source": [
    "def CauchyNumbers():\n",
    "    for size in sizes:\n",
    "        mean_list, med_list, z_R_list, z_Q_list, z_tr_list = [], [], [], [], []\n",
    "        all_list = [mean_list, med_list, z_R_list, z_Q_list, z_tr_list]\n",
    "        E, D = [], []    \n",
    "        for i in range(NUMBER_OF_REPETITIONS):\n",
    "            distribution = cauchy.rvs(size=size)\n",
    "            distribution.sort()\n",
    "            mean_list.append(mean(distribution))\n",
    "            med_list.append(med(distribution))\n",
    "            z_R_list.append(z_R(distribution, size))\n",
    "            z_Q_list.append(z_Q(distribution, size))\n",
    "            z_tr_list.append(z_tr(distribution, size))\n",
    "        for lis in all_list:\n",
    "            E.append(round(mean(lis), 6))\n",
    "            D.append(round(dispersion(lis), 6))\n",
    "        print(E)\n",
    "        print(D)\n",
    "    return\n",
    "CauchyNumbers()"
   ]
  },
  {
   "cell_type": "markdown",
   "metadata": {},
   "source": [
    "Функция построения таблицы для распределения Лапласа"
   ]
  },
  {
   "cell_type": "code",
   "execution_count": 104,
   "metadata": {},
   "outputs": [
    {
     "name": "stdout",
     "output_type": "stream",
     "text": [
      "[-0.009252, -0.006867, -0.019241, 0.288286, 0.221315]\n",
      "[0.097523, 0.068894, 0.422688, 0.118323, 0.080333]\n",
      "[-0.003976, -0.004124, 0.012266, 0.009485, 0.015338]\n",
      "[0.010566, 0.005703, 0.391439, 0.010209, 0.006423]\n",
      "[0.000446, 0.001196, -0.024662, 0.002258, 0.003135]\n",
      "[0.000988, 0.00054, 0.402958, 0.001012, 0.000655]\n"
     ]
    }
   ],
   "source": [
    "def LaplaceNumbers():\n",
    "    for size in sizes:\n",
    "        mean_list, med_list, z_R_list, z_Q_list, z_tr_list = [], [], [], [], []\n",
    "        all_list = [mean_list, med_list, z_R_list, z_Q_list, z_tr_list]\n",
    "        E, D = [], []    \n",
    "        for i in range(NUMBER_OF_REPETITIONS):\n",
    "            distribution = laplace.rvs(size=size, scale=1 / m.sqrt(2), loc=0)\n",
    "            distribution.sort()\n",
    "            mean_list.append(mean(distribution))\n",
    "            med_list.append(med(distribution))\n",
    "            z_R_list.append(z_R(distribution, size))\n",
    "            z_Q_list.append(z_Q(distribution, size))\n",
    "            z_tr_list.append(z_tr(distribution, size))\n",
    "        for lis in all_list:\n",
    "            E.append(round(mean(lis), 6))\n",
    "            D.append(round(dispersion(lis), 6))\n",
    "        print(E)\n",
    "        print(D)\n",
    "    return\n",
    "LaplaceNumbers()"
   ]
  },
  {
   "cell_type": "markdown",
   "metadata": {},
   "source": [
    "Функция построения таблицы распределения Пуассона"
   ]
  },
  {
   "cell_type": "code",
   "execution_count": 105,
   "metadata": {},
   "outputs": [
    {
     "name": "stdout",
     "output_type": "stream",
     "text": [
      "[9.9729, 9.875, 10.2715, 10.877, 10.743]\n",
      "[1.087016, 1.510375, 1.960038, 1.576371, 1.339784]\n",
      "[10.00065, 9.8565, 10.909, 9.952, 9.94592]\n",
      "[0.099615, 0.206658, 1.012219, 0.164196, 0.118534]\n",
      "[10.002411, 9.9945, 11.621, 9.998, 9.868756]\n",
      "[0.009712, 0.00522, 0.627859, 0.001496, 0.011182]\n"
     ]
    }
   ],
   "source": [
    "def PoissonNumbers(): \n",
    "    for size in sizes:\n",
    "        mean_list, med_list, z_R_list, z_Q_list, z_tr_list = [], [], [], [], []\n",
    "        all_list = [mean_list, med_list, z_R_list, z_Q_list, z_tr_list] \n",
    "        E, D = [], []    \n",
    "        for i in range(NUMBER_OF_REPETITIONS):\n",
    "            distribution = poisson.rvs(10, size=size)\n",
    "            distribution.sort()\n",
    "            mean_list.append(mean(distribution))\n",
    "            med_list.append(med(distribution))\n",
    "            z_R_list.append(z_R(distribution, size))\n",
    "            z_Q_list.append(z_Q(distribution, size))\n",
    "            z_tr_list.append(z_tr(distribution, size))\n",
    "        for lis in all_list:\n",
    "            E.append(round(mean(lis), 6))\n",
    "            D.append(round(dispersion(lis), 6))\n",
    "        print(E)\n",
    "        print(D)\n",
    "    return\n",
    "PoissonNumbers()"
   ]
  },
  {
   "cell_type": "markdown",
   "metadata": {},
   "source": [
    "Функция построения таблицы равномерного распределения"
   ]
  },
  {
   "cell_type": "code",
   "execution_count": 106,
   "metadata": {
    "scrolled": false
   },
   "outputs": [
    {
     "name": "stdout",
     "output_type": "stream",
     "text": [
      "[0.010389, 0.01709, 0.001281, 0.3258, 0.33084]\n",
      "[0.102599, 0.231137, 0.048097, 0.13775, 0.156502]\n",
      "[0.003832, 0.005935, 0.00136, 0.019801, 0.039607]\n",
      "[0.009591, 0.027275, 0.000528, 0.014836, 0.018672]\n",
      "[-0.001505, -0.002896, -9.4e-05, -0.000167, 0.001204]\n",
      "[0.000856, 0.002646, 6e-06, 0.001312, 0.00174]\n"
     ]
    }
   ],
   "source": [
    "def UniformNumbers():\n",
    "    for size in sizes:\n",
    "        mean_list, med_list, z_R_list, z_Q_list, z_tr_list = [], [], [], [], []\n",
    "        all_list = [mean_list, med_list, z_R_list, z_Q_list, z_tr_list]\n",
    "        E, D = [], []    \n",
    "        for i in range(NUMBER_OF_REPETITIONS):\n",
    "            distribution = uniform.rvs(size=size, loc=-m.sqrt(3), scale=2 * m.sqrt(3))\n",
    "            distribution.sort()\n",
    "            mean_list.append(mean(distribution))\n",
    "            med_list.append(med(distribution))\n",
    "            z_R_list.append(z_R(distribution, size))\n",
    "            z_Q_list.append(z_Q(distribution, size))\n",
    "            z_tr_list.append(z_tr(distribution, size))\n",
    "        for lis in all_list:\n",
    "            E.append(round(mean(lis), 6))\n",
    "            D.append(round(dispersion(lis), 6))\n",
    "        print(E)\n",
    "        print(D)\n",
    "    return\n",
    "UniformNumbers()"
   ]
  }
 ],
 "metadata": {
  "kernelspec": {
   "display_name": "Python 3",
   "language": "python",
   "name": "python3"
  },
  "language_info": {
   "codemirror_mode": {
    "name": "ipython",
    "version": 3
   },
   "file_extension": ".py",
   "mimetype": "text/x-python",
   "name": "python",
   "nbconvert_exporter": "python",
   "pygments_lexer": "ipython3",
   "version": "3.8.5"
  }
 },
 "nbformat": 4,
 "nbformat_minor": 4
}
