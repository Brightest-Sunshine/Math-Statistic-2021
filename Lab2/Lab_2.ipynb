{
 "cells": [
  {
   "cell_type": "markdown",
   "metadata": {},
   "source": [
    "# Характеристики положения и рассеяния"
   ]
  },
  {
   "cell_type": "markdown",
   "metadata": {},
   "source": [
    "Необходимо сгенерировать выборки размером 10, 100, 1000 элементов. Для каждой выборки вычислить следующие статистические характеристики:\n",
    "\n",
    "1. выборочное среднее\n",
    "2. выборочная медиана\n",
    "3. полусумма экстремальных выборочных элементов\n",
    "4. полусумма квартилей\n",
    "5. усечённое среднее\n",
    "\n",
    "Повторить такие вычисления 1000 раз для каждой выборки и найти среднее характеристик положения их квадратов. Вычислить оценку дисперсии. Представить полученные данные в виде таблиц."
   ]
  },
  {
   "cell_type": "code",
   "execution_count": 61,
   "metadata": {},
   "outputs": [],
   "source": [
    "from scipy.stats import norminvgauss, laplace, poisson, cauchy, uniform\n",
    "import numpy as np\n",
    "import math as m"
   ]
  },
  {
   "cell_type": "code",
   "execution_count": 62,
   "metadata": {},
   "outputs": [],
   "source": [
    "sizes = [10, 100, 1000]\n",
    "NORMAL, CAUCHY, LAPLACE, POISSON, UNIFORM = \"NormalNumber\", \"CauchyNumber\", \"LaplaceNumber\", \"PoissonNumber\", \"UniformNumber\"\n",
    "NUMBER_OF_REPETITIONS = 1000"
   ]
  },
  {
   "cell_type": "markdown",
   "metadata": {},
   "source": [
    "Функция вычисления выборочного среднего"
   ]
  },
  {
   "cell_type": "code",
   "execution_count": 63,
   "metadata": {},
   "outputs": [],
   "source": [
    "def mean(selection):\n",
    "    return np.mean(selection)"
   ]
  },
  {
   "cell_type": "markdown",
   "metadata": {},
   "source": [
    "Функция вычисления выборочной медианы"
   ]
  },
  {
   "cell_type": "code",
   "execution_count": 64,
   "metadata": {},
   "outputs": [],
   "source": [
    "def med(selection):\n",
    "    return np.median(selection)"
   ]
  },
  {
   "cell_type": "markdown",
   "metadata": {},
   "source": [
    "Функция вычисления полусуммы экстремальных выборочных элементов"
   ]
  },
  {
   "cell_type": "code",
   "execution_count": 65,
   "metadata": {},
   "outputs": [],
   "source": [
    "def z_R(selection, size):\n",
    "    z_R = (selection[0] + selection[size - 1]) / 2\n",
    "    return z_R"
   ]
  },
  {
   "cell_type": "markdown",
   "metadata": {},
   "source": [
    "Функция вычисления выборочной квартили порядка р"
   ]
  },
  {
   "cell_type": "code",
   "execution_count": 66,
   "metadata": {},
   "outputs": [],
   "source": [
    "def z_p(selection, np):\n",
    "    if np.is_integer():\n",
    "        return selection[int(np)]\n",
    "    else:\n",
    "        return selection[int(np) + 1]"
   ]
  },
  {
   "cell_type": "markdown",
   "metadata": {},
   "source": [
    "Функция вычисления полусуммы квартилей"
   ]
  },
  {
   "cell_type": "code",
   "execution_count": 67,
   "metadata": {},
   "outputs": [],
   "source": [
    "def z_Q(selection, size):\n",
    "    z_1 = z_p(selection, size / 4)\n",
    "    z_2 = z_p(selection, 3 * size / 4)\n",
    "    return (z_1 + z_2) / 2"
   ]
  },
  {
   "cell_type": "markdown",
   "metadata": {},
   "source": [
    "Функция вычисления усечённого среднего"
   ]
  },
  {
   "cell_type": "code",
   "execution_count": 68,
   "metadata": {},
   "outputs": [],
   "source": [
    "def z_tr(selection, size):\n",
    "    r = int(size / 4)\n",
    "    sum = 0\n",
    "    for i in range(r + 1, size - r + 1):\n",
    "        sum += selection[i]\n",
    "    return (1 / (size - 2 * r)) * sum "
   ]
  },
  {
   "cell_type": "markdown",
   "metadata": {},
   "source": [
    "Функция вычисления дисперсии"
   ]
  },
  {
   "cell_type": "code",
   "execution_count": 69,
   "metadata": {},
   "outputs": [],
   "source": [
    "def dispersion(selection):\n",
    "    return np.std(selection) ** 2 "
   ]
  },
  {
   "cell_type": "markdown",
   "metadata": {},
   "source": [
    "Функция построения таблицы для нормального распределения"
   ]
  },
  {
   "cell_type": "code",
   "execution_count": 70,
   "metadata": {},
   "outputs": [
    {
     "name": "stdout",
     "output_type": "stream",
     "text": [
      "[0.008085, 0.010633, 0.021127, 0.010177]\n",
      "[0.100556, 0.089664, 0.472883, 0.166701]\n",
      "[0.002114, 0.004009, -0.006275, 0.00312]\n",
      "[0.055455, 0.049157, 0.500878, 0.093204]\n",
      "[0.001405, 0.002835, -0.004931, 0.001902]\n",
      "[0.037304, 0.033088, 0.495314, 0.062814]\n"
     ]
    }
   ],
   "source": [
    "def NormalNumbers():\n",
    "    mean_list, med_list, z_R_list, z_Q_list, z_tr_list = [], [], [], [], []\n",
    "    all_list = [mean_list, med_list, z_R_list, z_tr_list]\n",
    "    for size in sizes:\n",
    "        E, D = [], []    \n",
    "        for i in range(NUMBER_OF_REPETITIONS):\n",
    "            distribution = norminvgauss.rvs(1, 0, size=size)\n",
    "            mean_list.append(mean(distribution))\n",
    "            med_list.append(med(distribution))\n",
    "            z_R_list.append(z_R(distribution, size))\n",
    "            z_Q_list.append(z_Q(distribution, size))\n",
    "            z_tr_list.append(z_tr(distribution, size))\n",
    "        for lis in all_list:\n",
    "            E.append(round(mean(lis), 6))\n",
    "            D.append(round(dispersion(lis), 6))\n",
    "        print(E)\n",
    "        print(D)\n",
    "    return\n",
    "NormalNumbers()"
   ]
  },
  {
   "cell_type": "markdown",
   "metadata": {},
   "source": [
    "Функция построения таблицы для распределения Коши"
   ]
  },
  {
   "cell_type": "code",
   "execution_count": 71,
   "metadata": {},
   "outputs": [
    {
     "name": "stdout",
     "output_type": "stream",
     "text": [
      "[2.966373, -0.016697, 14.37477, -1.265183]\n",
      "[14169.629098, 0.375039, 197784.702719, 14489.287834]\n",
      "[1.75722, -0.008725, 8.135323, 0.19181]\n",
      "[7362.023691, 0.20039, 100646.661657, 7841.246515]\n",
      "[0.794621, -0.004712, 5.440703, -0.315861]\n",
      "[5126.23835, 0.134454, 67319.596729, 5976.38589]\n"
     ]
    }
   ],
   "source": [
    "def CauchyNumbers():\n",
    "    mean_list, med_list, z_R_list, z_Q_list, z_tr_list = [], [], [], [], []\n",
    "    all_list = [mean_list, med_list, z_R_list, z_tr_list]\n",
    "    for size in sizes:\n",
    "        E, D = [], []    \n",
    "        for i in range(NUMBER_OF_REPETITIONS):\n",
    "            distribution = cauchy.rvs(size=size)\n",
    "            mean_list.append(mean(distribution))\n",
    "            med_list.append(med(distribution))\n",
    "            z_R_list.append(z_R(distribution, size))\n",
    "            z_Q_list.append(z_Q(distribution, size))\n",
    "            z_tr_list.append(z_tr(distribution, size))\n",
    "        for lis in all_list:\n",
    "            E.append(round(mean(lis), 6))\n",
    "            D.append(round(dispersion(lis), 6))\n",
    "        print(E)\n",
    "        print(D)\n",
    "    return\n",
    "CauchyNumbers()"
   ]
  },
  {
   "cell_type": "markdown",
   "metadata": {},
   "source": [
    "Функция построения таблицы для распределения Лапласа"
   ]
  },
  {
   "cell_type": "code",
   "execution_count": 72,
   "metadata": {},
   "outputs": [
    {
     "name": "stdout",
     "output_type": "stream",
     "text": [
      "[0.003678, 0.004527, 0.003016, 0.006422]\n",
      "[0.102279, 0.072822, 0.480951, 0.17557]\n",
      "[0.003309, 0.00212, 0.018836, 0.00509]\n",
      "[0.056237, 0.039424, 0.498501, 0.098564]\n",
      "[0.002047, 0.001247, 0.0174, 0.002846]\n",
      "[0.037849, 0.026466, 0.505373, 0.066385]\n"
     ]
    }
   ],
   "source": [
    "def LaplaceNumbers():\n",
    "    mean_list, med_list, z_R_list, z_Q_list, z_tr_list = [], [], [], [], []\n",
    "    all_list = [mean_list, med_list, z_R_list, z_tr_list]\n",
    "    for size in sizes:\n",
    "        E, D = [], []    \n",
    "        for i in range(NUMBER_OF_REPETITIONS):\n",
    "            distribution = laplace.rvs(size=size, scale=1 / m.sqrt(2), loc=0)\n",
    "            mean_list.append(mean(distribution))\n",
    "            med_list.append(med(distribution))\n",
    "            z_R_list.append(z_R(distribution, size))\n",
    "            z_Q_list.append(z_Q(distribution, size))\n",
    "            z_tr_list.append(z_tr(distribution, size))\n",
    "        for lis in all_list:\n",
    "            E.append(round(mean(lis), 6))\n",
    "            D.append(round(dispersion(lis), 6))\n",
    "        print(E)\n",
    "        print(D)\n",
    "    return\n",
    "LaplaceNumbers()"
   ]
  },
  {
   "cell_type": "markdown",
   "metadata": {},
   "source": [
    "Функция построения таблицы распределения Пуассона"
   ]
  },
  {
   "cell_type": "code",
   "execution_count": 73,
   "metadata": {},
   "outputs": [
    {
     "name": "stdout",
     "output_type": "stream",
     "text": [
      "[10.0015, 9.8715, 10.02, 9.955333]\n",
      "[1.057168, 1.450238, 4.8391, 1.783283]\n",
      "[10.000775, 9.865, 10.03275, 9.977077]\n",
      "[0.576562, 0.828275, 4.919052, 0.987505]\n",
      "[10.000717, 9.909667, 10.0535, 9.986116]\n",
      "[0.387734, 0.556507, 4.948054, 0.665405]\n"
     ]
    }
   ],
   "source": [
    "def PoissonNumbers():\n",
    "    mean_list, med_list, z_R_list, z_Q_list, z_tr_list = [], [], [], [], []\n",
    "    all_list = [mean_list, med_list, z_R_list, z_tr_list]\n",
    "    for size in sizes:\n",
    "        E, D = [], []    \n",
    "        for i in range(NUMBER_OF_REPETITIONS):\n",
    "            distribution = poisson.rvs(10, size=size)\n",
    "            mean_list.append(mean(distribution))\n",
    "            med_list.append(med(distribution))\n",
    "            z_R_list.append(z_R(distribution, size))\n",
    "            z_Q_list.append(z_Q(distribution, size))\n",
    "            z_tr_list.append(z_tr(distribution, size))\n",
    "        for lis in all_list:\n",
    "            E.append(round(mean(lis), 6))\n",
    "            D.append(round(dispersion(lis), 6))\n",
    "        print(E)\n",
    "        print(D)\n",
    "    return\n",
    "PoissonNumbers()"
   ]
  },
  {
   "cell_type": "markdown",
   "metadata": {},
   "source": [
    "Функция построения таблицы равномерного распределения"
   ]
  },
  {
   "cell_type": "code",
   "execution_count": 74,
   "metadata": {
    "scrolled": true
   },
   "outputs": [
    {
     "name": "stdout",
     "output_type": "stream",
     "text": [
      "[-0.008948, -0.010579, -0.029984, -0.01652]\n",
      "[0.103561, 0.24168, 0.519546, 0.178222]\n",
      "[-0.006946, -0.009481, -0.018547, -0.013208]\n",
      "[0.056835, 0.134673, 0.521238, 0.098918]\n",
      "[-0.004379, -0.006288, -0.011447, -0.008637]\n",
      "[0.038249, 0.09087, 0.510967, 0.066629]\n"
     ]
    }
   ],
   "source": [
    "def UniformNumbers():\n",
    "    mean_list, med_list, z_R_list, z_Q_list, z_tr_list = [], [], [], [], []\n",
    "    all_list = [mean_list, med_list, z_R_list, z_tr_list]\n",
    "    for size in sizes:\n",
    "        E, D = [], []    \n",
    "        for i in range(NUMBER_OF_REPETITIONS):\n",
    "            distribution = uniform.rvs(size=size, loc=-m.sqrt(3), scale=2 * m.sqrt(3))\n",
    "            mean_list.append(mean(distribution))\n",
    "            med_list.append(med(distribution))\n",
    "            z_R_list.append(z_R(distribution, size))\n",
    "            z_Q_list.append(z_Q(distribution, size))\n",
    "            z_tr_list.append(z_tr(distribution, size))\n",
    "        for lis in all_list:\n",
    "            E.append(round(mean(lis), 6))\n",
    "            D.append(round(dispersion(lis), 6))\n",
    "        print(E)\n",
    "        print(D)\n",
    "    return\n",
    "UniformNumbers()"
   ]
  }
 ],
 "metadata": {
  "kernelspec": {
   "display_name": "Python 3",
   "language": "python",
   "name": "python3"
  },
  "language_info": {
   "codemirror_mode": {
    "name": "ipython",
    "version": 3
   },
   "file_extension": ".py",
   "mimetype": "text/x-python",
   "name": "python",
   "nbconvert_exporter": "python",
   "pygments_lexer": "ipython3",
   "version": "3.8.5"
  }
 },
 "nbformat": 4,
 "nbformat_minor": 4
}
