{
 "cells": [
  {
   "cell_type": "markdown",
   "metadata": {},
   "source": [
    "# Характеристики положения и рассеяния"
   ]
  },
  {
   "cell_type": "markdown",
   "metadata": {},
   "source": [
    "Необходимо сгенерировать выборки размером 10, 100, 1000 элементов. Для каждой выборки вычислить следующие статистические характеристики:\n",
    "\n",
    "1. выборочное среднее\n",
    "2. выборочная медиана\n",
    "3. полусумма экстремальных выборочных элементов\n",
    "4. полусумма квартилей\n",
    "5. усечённое среднее\n",
    "\n",
    "Повторить такие вычисления 1000 раз для каждой выборки и найти среднее характеристик положения их квадратов. Вычислить оценку дисперсии. Представить полученные данные в виде таблиц."
   ]
  },
  {
   "cell_type": "code",
   "execution_count": 27,
   "metadata": {},
   "outputs": [],
   "source": [
    "from scipy.stats import norminvgauss, laplace, poisson, cauchy, uniform\n",
    "import numpy as np\n",
    "import math as m"
   ]
  },
  {
   "cell_type": "code",
   "execution_count": 28,
   "metadata": {},
   "outputs": [],
   "source": [
    "sizes = [10, 100, 1000]\n",
    "NORMAL, CAUCHY, LAPLACE, POISSON, UNIFORM = \"NormalNumber\", \"CauchyNumber\", \"LaplaceNumber\", \"PoissonNumber\", \"UniformNumber\"\n",
    "NUMBER_OF_REPETITIONS = 1000"
   ]
  },
  {
   "cell_type": "markdown",
   "metadata": {},
   "source": [
    "Функция вычисления выборочного среднего"
   ]
  },
  {
   "cell_type": "code",
   "execution_count": 29,
   "metadata": {},
   "outputs": [],
   "source": [
    "def mean(selection):\n",
    "    return np.mean(selection)"
   ]
  },
  {
   "cell_type": "markdown",
   "metadata": {},
   "source": [
    "Функция вычисления выборочной медианы"
   ]
  },
  {
   "cell_type": "code",
   "execution_count": 30,
   "metadata": {},
   "outputs": [],
   "source": [
    "def med(selection):\n",
    "    return np.median(selection)"
   ]
  },
  {
   "cell_type": "markdown",
   "metadata": {},
   "source": [
    "Функция вычисления полусуммы экстремальных выборочных элементов"
   ]
  },
  {
   "cell_type": "code",
   "execution_count": 31,
   "metadata": {},
   "outputs": [],
   "source": [
    "def z_R(selection, size):\n",
    "    z_R = (selection[0] + selection[size - 1]) / 2\n",
    "    return z_R"
   ]
  },
  {
   "cell_type": "markdown",
   "metadata": {},
   "source": [
    "Функция вычисления выборочной квартили порядка р"
   ]
  },
  {
   "cell_type": "code",
   "execution_count": 32,
   "metadata": {},
   "outputs": [],
   "source": [
    "def z_p(selection, np):\n",
    "    if np.is_integer():\n",
    "        return selection[int(np)]\n",
    "    else:\n",
    "        return selection[int(np) + 1]"
   ]
  },
  {
   "cell_type": "raw",
   "metadata": {},
   "source": [
    "Функция вычисления полусуммы квартилей"
   ]
  },
  {
   "cell_type": "code",
   "execution_count": 33,
   "metadata": {},
   "outputs": [],
   "source": [
    "def z_Q(selection, size):\n",
    "    z_1 = z_p(selection, size / 4)\n",
    "    z_2 = z_p(selection, 3 * size / 4)\n",
    "    return (z_1 + z_2) / 2"
   ]
  },
  {
   "cell_type": "markdown",
   "metadata": {},
   "source": [
    "Функция вычисления усечённого среднего"
   ]
  },
  {
   "cell_type": "code",
   "execution_count": 34,
   "metadata": {},
   "outputs": [],
   "source": [
    "def z_tr(selection, size):\n",
    "    r = int(size / 4)\n",
    "    sum = 0\n",
    "    for i in range(r + 1, size - r + 1):\n",
    "        sum += selection[i]\n",
    "    return (1 / (size - 2 * r)) * sum "
   ]
  },
  {
   "cell_type": "markdown",
   "metadata": {},
   "source": [
    "Функция вычисления дисперсии"
   ]
  },
  {
   "cell_type": "code",
   "execution_count": 35,
   "metadata": {},
   "outputs": [],
   "source": [
    "def dispersion(selection):\n",
    "    return np.std(selection) ** 2 "
   ]
  },
  {
   "cell_type": "markdown",
   "metadata": {},
   "source": [
    "Функция построения таблицы для нормального распределения"
   ]
  },
  {
   "cell_type": "code",
   "execution_count": 45,
   "metadata": {},
   "outputs": [
    {
     "name": "stdout",
     "output_type": "stream",
     "text": [
      "[-0.017083, -0.010017, 0.005245, -0.01171]\n",
      "[0.103828, 0.094729, 0.494152, 0.176591]\n",
      "[-0.010634, -0.008364, 0.007187, -0.006499]\n",
      "[0.05704, 0.05219, 0.497589, 0.098281]\n",
      "[-0.006939, -0.005421, 0.012277, -0.004517]\n",
      "[0.038373, 0.035116, 0.480981, 0.066168]\n"
     ]
    }
   ],
   "source": [
    "def NormalNumbers():\n",
    "    mean_list, med_list, z_R_list, z_Q_list, z_tr_list = [], [], [], [], []\n",
    "    all_list = [mean_list, med_list, z_R_list, z_tr_list]\n",
    "    for size in sizes:\n",
    "        E, D = [], []    \n",
    "        for i in range(NUMBER_OF_REPETITIONS):\n",
    "            distribution = norminvgauss.rvs(1, 0, size=size)\n",
    "            mean_list.append(mean(distribution))\n",
    "            med_list.append(med(distribution))\n",
    "            z_R_list.append(z_R(distribution, size))\n",
    "            z_Q_list.append(z_Q(distribution, size))\n",
    "            z_tr_list.append(z_tr(distribution, size))\n",
    "        for lis in all_list:\n",
    "            E.append(round(mean(lis), 6))\n",
    "            D.append(round(dispersion(lis), 6))\n",
    "        print(E)\n",
    "        print(D)\n",
    "    return\n",
    "NormalNumbers()"
   ]
  },
  {
   "cell_type": "markdown",
   "metadata": {},
   "source": [
    "Функция построения таблицы для распределения Коши"
   ]
  },
  {
   "cell_type": "code",
   "execution_count": 47,
   "metadata": {},
   "outputs": [
    {
     "name": "stdout",
     "output_type": "stream",
     "text": [
      "[2.385181, -0.013023, 7.472869, 1.636121]\n",
      "[2925.751934, 0.278021, 52825.869252, 2255.92386]\n",
      "[5.940857, -0.006036, 5.271, 10.369904]\n",
      "[48085.994652, 0.151948, 32466.34009, 187485.152435]\n",
      "[6.538808, -0.00384, 3.424497, 7.146975]\n",
      "[50341.089823, 0.102123, 21826.008261, 125153.02119]\n"
     ]
    }
   ],
   "source": [
    "def CauchyNumbers():\n",
    "    mean_list, med_list, z_R_list, z_Q_list, z_tr_list = [], [], [], [], []\n",
    "    all_list = [mean_list, med_list, z_R_list, z_tr_list]\n",
    "    for size in sizes:\n",
    "        E, D = [], []    \n",
    "        for i in range(NUMBER_OF_REPETITIONS):\n",
    "            distribution = cauchy.rvs(size=size)\n",
    "            mean_list.append(mean(distribution))\n",
    "            med_list.append(med(distribution))\n",
    "            z_R_list.append(z_R(distribution, size))\n",
    "            z_Q_list.append(z_Q(distribution, size))\n",
    "            z_tr_list.append(z_tr(distribution, size))\n",
    "        for lis in all_list:\n",
    "            E.append(round(mean(lis), 6))\n",
    "            D.append(round(dispersion(lis), 6))\n",
    "        print(E)\n",
    "        print(D)\n",
    "    return\n",
    "CauchyNumbers()"
   ]
  },
  {
   "cell_type": "markdown",
   "metadata": {},
   "source": [
    "Функция построения таблицы для распределения Лапласа"
   ]
  },
  {
   "cell_type": "code",
   "execution_count": 48,
   "metadata": {},
   "outputs": [
    {
     "name": "stdout",
     "output_type": "stream",
     "text": [
      "[-0.005003, -0.004907, 0.001735, -0.002231]\n",
      "[0.099281, 0.074265, 0.52748, 0.171046]\n",
      "[-0.003208, -0.001888, -0.00332, -0.001526]\n",
      "[0.054849, 0.040017, 0.499454, 0.095556]\n",
      "[-0.002384, -0.001383, -0.013836, -0.001191]\n",
      "[0.036902, 0.026847, 0.480692, 0.064361]\n"
     ]
    }
   ],
   "source": [
    "def LaplaceNumbers():\n",
    "    mean_list, med_list, z_R_list, z_Q_list, z_tr_list = [], [], [], [], []\n",
    "    all_list = [mean_list, med_list, z_R_list, z_tr_list]\n",
    "    for size in sizes:\n",
    "        E, D = [], []    \n",
    "        for i in range(NUMBER_OF_REPETITIONS):\n",
    "            distribution = laplace.rvs(size=size, scale=1 / m.sqrt(2), loc=0)\n",
    "            mean_list.append(mean(distribution))\n",
    "            med_list.append(med(distribution))\n",
    "            z_R_list.append(z_R(distribution, size))\n",
    "            z_Q_list.append(z_Q(distribution, size))\n",
    "            z_tr_list.append(z_tr(distribution, size))\n",
    "        for lis in all_list:\n",
    "            E.append(round(mean(lis), 6))\n",
    "            D.append(round(dispersion(lis), 6))\n",
    "        print(E)\n",
    "        print(D)\n",
    "    return\n",
    "LaplaceNumbers()"
   ]
  },
  {
   "cell_type": "markdown",
   "metadata": {},
   "source": [
    "Функция построения таблицы распределения Пуассона"
   ]
  },
  {
   "cell_type": "code",
   "execution_count": 49,
   "metadata": {},
   "outputs": [
    {
     "name": "stdout",
     "output_type": "stream",
     "text": [
      "[10.0051, 9.903, 10.0045, 9.972667]\n",
      "[1.066504, 1.545091, 5.08473, 1.71942]\n",
      "[10.00068, 9.86925, 9.9905, 9.994703]\n",
      "[0.582337, 0.882779, 5.27741, 0.961191]\n",
      "[9.998883, 9.910667, 9.982833, 9.992858]\n",
      "[0.391604, 0.593853, 5.187455, 0.647827]\n"
     ]
    }
   ],
   "source": [
    "def PoissonNumbers():\n",
    "    mean_list, med_list, z_R_list, z_Q_list, z_tr_list = [], [], [], [], []\n",
    "    all_list = [mean_list, med_list, z_R_list, z_tr_list]\n",
    "    for size in sizes:\n",
    "        E, D = [], []    \n",
    "        for i in range(NUMBER_OF_REPETITIONS):\n",
    "            distribution = poisson.rvs(10, size=size)\n",
    "            mean_list.append(mean(distribution))\n",
    "            med_list.append(med(distribution))\n",
    "            z_R_list.append(z_R(distribution, size))\n",
    "            z_Q_list.append(z_Q(distribution, size))\n",
    "            z_tr_list.append(z_tr(distribution, size))\n",
    "        for lis in all_list:\n",
    "            E.append(round(mean(lis), 6))\n",
    "            D.append(round(dispersion(lis), 6))\n",
    "        print(E)\n",
    "        print(D)\n",
    "    return\n",
    "PoissonNumbers()"
   ]
  },
  {
   "cell_type": "markdown",
   "metadata": {},
   "source": [
    "Функция построения таблицы равномерного распределения"
   ]
  },
  {
   "cell_type": "code",
   "execution_count": 50,
   "metadata": {
    "scrolled": true
   },
   "outputs": [
    {
     "name": "stdout",
     "output_type": "stream",
     "text": [
      "[0.003575, 0.004968, 0.022722, 0.011497]\n",
      "[0.094385, 0.231843, 0.517434, 0.163409]\n",
      "[0.000577, 0.002148, 0.013476, 0.006383]\n",
      "[0.051759, 0.130048, 0.50773, 0.090981]\n",
      "[0.000154, 0.001459, 0.000521, 0.003517]\n",
      "[0.034832, 0.087645, 0.509554, 0.061383]\n"
     ]
    }
   ],
   "source": [
    "def UniformNumbers():\n",
    "    mean_list, med_list, z_R_list, z_Q_list, z_tr_list = [], [], [], [], []\n",
    "    all_list = [mean_list, med_list, z_R_list, z_tr_list]\n",
    "    for size in sizes:\n",
    "        E, D = [], []    \n",
    "        for i in range(NUMBER_OF_REPETITIONS):\n",
    "            distribution = uniform.rvs(size=size, loc=-m.sqrt(3), scale=2 * m.sqrt(3))\n",
    "            mean_list.append(mean(distribution))\n",
    "            med_list.append(med(distribution))\n",
    "            z_R_list.append(z_R(distribution, size))\n",
    "            z_Q_list.append(z_Q(distribution, size))\n",
    "            z_tr_list.append(z_tr(distribution, size))\n",
    "        for lis in all_list:\n",
    "            E.append(round(mean(lis), 6))\n",
    "            D.append(round(dispersion(lis), 6))\n",
    "        print(E)\n",
    "        print(D)\n",
    "    return\n",
    "UniformNumbers()"
   ]
  }
 ],
 "metadata": {
  "kernelspec": {
   "display_name": "Python 3",
   "language": "python",
   "name": "python3"
  },
  "language_info": {
   "codemirror_mode": {
    "name": "ipython",
    "version": 3
   },
   "file_extension": ".py",
   "mimetype": "text/x-python",
   "name": "python",
   "nbconvert_exporter": "python",
   "pygments_lexer": "ipython3",
   "version": "3.8.5"
  }
 },
 "nbformat": 4,
 "nbformat_minor": 4
}
