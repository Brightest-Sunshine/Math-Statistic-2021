{
 "cells": [
  {
   "cell_type": "markdown",
   "metadata": {},
   "source": [
    "# Характеристики положения и рассеяния"
   ]
  },
  {
   "cell_type": "markdown",
   "metadata": {},
   "source": [
    "Необходимо сгенерировать выборки размером 10, 100, 1000 элементов. Для каждой выборки вычислить следующие статистические характеристики:\n",
    "\n",
    "1. выборочное среднее\n",
    "2. выборочная медиана\n",
    "3. полусумма экстремальных выборочных элементов\n",
    "4. полусумма квартилей\n",
    "5. усечённое среднее\n",
    "\n",
    "Повторить такие вычисления 1000 раз для каждой выборки и найти среднее характеристик положения их квадратов. Вычислить оценку дисперсии. Представить полученные данные в виде таблиц."
   ]
  },
  {
   "cell_type": "code",
   "execution_count": 61,
   "metadata": {},
   "outputs": [],
   "source": [
    "from scipy.stats import norminvgauss, laplace, poisson, cauchy, uniform\n",
    "import numpy as np\n",
    "import math as m"
   ]
  },
  {
   "cell_type": "code",
   "execution_count": 62,
   "metadata": {},
   "outputs": [],
   "source": [
    "sizes = [10, 100, 1000]\n",
    "NORMAL, CAUCHY, LAPLACE, POISSON, UNIFORM = \"NormalNumber\", \"CauchyNumber\", \"LaplaceNumber\", \"PoissonNumber\", \"UniformNumber\"\n",
    "NUMBER_OF_REPETITIONS = 1000"
   ]
  },
  {
   "cell_type": "markdown",
   "metadata": {},
   "source": [
    "Функция вычисления выборочного среднего"
   ]
  },
  {
   "cell_type": "code",
   "execution_count": 63,
   "metadata": {},
   "outputs": [],
   "source": [
    "def mean(selection):\n",
    "    return np.mean(selection)"
   ]
  },
  {
   "cell_type": "markdown",
   "metadata": {},
   "source": [
    "Функция вычисления выборочной медианы"
   ]
  },
  {
   "cell_type": "code",
   "execution_count": 64,
   "metadata": {},
   "outputs": [],
   "source": [
    "def med(selection):\n",
    "    return np.median(selection)"
   ]
  },
  {
   "cell_type": "markdown",
   "metadata": {},
   "source": [
    "Функция вычисления полусуммы экстремальных выборочных элементов"
   ]
  },
  {
   "cell_type": "code",
   "execution_count": 65,
   "metadata": {},
   "outputs": [],
   "source": [
    "def z_R(selection, size):\n",
    "    z_R = (selection[0] + selection[size - 1]) / 2\n",
    "    return z_R"
   ]
  },
  {
   "cell_type": "markdown",
   "metadata": {},
   "source": [
    "Функция вычисления выборочной квартили порядка р"
   ]
  },
  {
   "cell_type": "code",
   "execution_count": 66,
   "metadata": {},
   "outputs": [],
   "source": [
    "def z_p(selection, np):\n",
    "    if np.is_integer():\n",
    "        return selection[int(np)]\n",
    "    else:\n",
    "        return selection[int(np) + 1]"
   ]
  },
  {
   "cell_type": "markdown",
   "metadata": {},
   "source": [
    "Функция вычисления полусуммы квартилей"
   ]
  },
  {
   "cell_type": "code",
   "execution_count": 67,
   "metadata": {},
   "outputs": [],
   "source": [
    "def z_Q(selection, size):\n",
    "    z_1 = z_p(selection, size / 4)\n",
    "    z_2 = z_p(selection, 3 * size / 4)\n",
    "    return (z_1 + z_2) / 2"
   ]
  },
  {
   "cell_type": "markdown",
   "metadata": {},
   "source": [
    "Функция вычисления усечённого среднего"
   ]
  },
  {
   "cell_type": "code",
   "execution_count": 68,
   "metadata": {},
   "outputs": [],
   "source": [
    "def z_tr(selection, size):\n",
    "    r = int(size / 4)\n",
    "    sum = 0\n",
    "    for i in range(r + 1, size - r + 1):\n",
    "        sum += selection[i]\n",
    "    return (1 / (size - 2 * r)) * sum "
   ]
  },
  {
   "cell_type": "markdown",
   "metadata": {},
   "source": [
    "Функция вычисления дисперсии"
   ]
  },
  {
   "cell_type": "code",
   "execution_count": 69,
   "metadata": {},
   "outputs": [],
   "source": [
    "def dispersion(selection):\n",
    "    return np.std(selection) ** 2 "
   ]
  },
  {
   "cell_type": "markdown",
   "metadata": {},
   "source": [
    "Функция построения таблицы для нормального распределения"
   ]
  },
  {
   "cell_type": "code",
   "execution_count": 75,
   "metadata": {},
   "outputs": [
    {
     "name": "stdout",
     "output_type": "stream",
     "text": [
      "[-3.2e-05, -0.008031, 0.036451, -0.021004, -0.012014]\n",
      "[0.101239, 0.091199, 0.480519, 0.475769, 0.172801]\n",
      "[-0.002052, -0.004684, 0.012205, -0.011495, -0.008917]\n",
      "[0.05601, 0.050246, 0.478019, 0.50419, 0.097187]\n",
      "[-0.001219, -0.003105, 0.006667, -0.010076, -0.006475]\n",
      "[0.037681, 0.033809, 0.475955, 0.497166, 0.065463]\n"
     ]
    }
   ],
   "source": [
    "def NormalNumbers():\n",
    "    mean_list, med_list, z_R_list, z_Q_list, z_tr_list = [], [], [], [], []\n",
    "    all_list = [mean_list, med_list, z_R_list, z_Q_list, z_tr_list]\n",
    "    for size in sizes:\n",
    "        E, D = [], []    \n",
    "        for i in range(NUMBER_OF_REPETITIONS):\n",
    "            distribution = norminvgauss.rvs(1, 0, size=size)\n",
    "            mean_list.append(mean(distribution))\n",
    "            med_list.append(med(distribution))\n",
    "            z_R_list.append(z_R(distribution, size))\n",
    "            z_Q_list.append(z_Q(distribution, size))\n",
    "            z_tr_list.append(z_tr(distribution, size))\n",
    "        for lis in all_list:\n",
    "            E.append(round(mean(lis), 6))\n",
    "            D.append(round(dispersion(lis), 6))\n",
    "        print(E)\n",
    "        print(D)\n",
    "    return\n",
    "NormalNumbers()"
   ]
  },
  {
   "cell_type": "markdown",
   "metadata": {},
   "source": [
    "Функция построения таблицы для распределения Коши"
   ]
  },
  {
   "cell_type": "code",
   "execution_count": 76,
   "metadata": {},
   "outputs": [
    {
     "name": "stdout",
     "output_type": "stream",
     "text": [
      "[-1.787828, -0.025951, -5.130831, -3.948137, -2.645886]\n",
      "[4390.971006, 0.403047, 71558.568616, 21478.02574, 2724.386192]\n",
      "[-2.946291, -0.011733, -2.919987, 7.274195, -5.064231]\n",
      "[11499.487958, 0.214055, 37287.430564, 194370.447689, 37068.769842]\n",
      "[-2.272925, -0.007192, -1.740728, 4.70099, -4.116761]\n",
      "[7794.088368, 0.143556, 25043.951311, 129732.737357, 25183.866103]\n"
     ]
    }
   ],
   "source": [
    "def CauchyNumbers():\n",
    "    mean_list, med_list, z_R_list, z_Q_list, z_tr_list = [], [], [], [], []\n",
    "    all_list = [mean_list, med_list, z_R_list, z_Q_list, z_tr_list]\n",
    "    for size in sizes:\n",
    "        E, D = [], []    \n",
    "        for i in range(NUMBER_OF_REPETITIONS):\n",
    "            distribution = cauchy.rvs(size=size)\n",
    "            mean_list.append(mean(distribution))\n",
    "            med_list.append(med(distribution))\n",
    "            z_R_list.append(z_R(distribution, size))\n",
    "            z_Q_list.append(z_Q(distribution, size))\n",
    "            z_tr_list.append(z_tr(distribution, size))\n",
    "        for lis in all_list:\n",
    "            E.append(round(mean(lis), 6))\n",
    "            D.append(round(dispersion(lis), 6))\n",
    "        print(E)\n",
    "        print(D)\n",
    "    return\n",
    "CauchyNumbers()"
   ]
  },
  {
   "cell_type": "markdown",
   "metadata": {},
   "source": [
    "Функция построения таблицы для распределения Лапласа"
   ]
  },
  {
   "cell_type": "code",
   "execution_count": 79,
   "metadata": {},
   "outputs": [
    {
     "name": "stdout",
     "output_type": "stream",
     "text": [
      "[0.022501, 0.011001, 0.011483, 0.023003, 0.027397]\n",
      "[0.103582, 0.077859, 0.490929, 0.47279, 0.169248]\n",
      "[0.012271, 0.005379, 0.021852, 0.021828, 0.015041]\n",
      "[0.057048, 0.041891, 0.492694, 0.492542, 0.095815]\n",
      "[0.008403, 0.003924, 0.022277, 0.022505, 0.010596]\n",
      "[0.038374, 0.028103, 0.487406, 0.505289, 0.064555]\n"
     ]
    }
   ],
   "source": [
    "def LaplaceNumbers():\n",
    "    mean_list, med_list, z_R_list, z_Q_list, z_tr_list = [], [], [], [], []\n",
    "    all_list = [mean_list, med_list, z_R_list, z_Q_list, z_tr_list]\n",
    "    for size in sizes:\n",
    "        E, D = [], []    \n",
    "        for i in range(NUMBER_OF_REPETITIONS):\n",
    "            distribution = laplace.rvs(size=size, scale=1 / m.sqrt(2), loc=0)\n",
    "            mean_list.append(mean(distribution))\n",
    "            med_list.append(med(distribution))\n",
    "            z_R_list.append(z_R(distribution, size))\n",
    "            z_Q_list.append(z_Q(distribution, size))\n",
    "            z_tr_list.append(z_tr(distribution, size))\n",
    "        for lis in all_list:\n",
    "            E.append(round(mean(lis), 6))\n",
    "            D.append(round(dispersion(lis), 6))\n",
    "        print(E)\n",
    "        print(D)\n",
    "    return\n",
    "LaplaceNumbers()"
   ]
  },
  {
   "cell_type": "markdown",
   "metadata": {},
   "source": [
    "Функция построения таблицы распределения Пуассона"
   ]
  },
  {
   "cell_type": "code",
   "execution_count": 80,
   "metadata": {},
   "outputs": [
    {
     "name": "stdout",
     "output_type": "stream",
     "text": [
      "[9.979, 9.8525, 9.9655, 10.044, 9.997167]\n",
      "[0.975799, 1.373994, 4.68356, 5.018564, 1.779575]\n",
      "[9.98473, 9.8535, 9.9615, 10.0425, 9.986043]\n",
      "[0.534271, 0.786788, 4.841018, 5.073944, 0.982735]\n",
      "[9.990781, 9.902, 9.955, 10.057, 9.99035]\n",
      "[0.359408, 0.529563, 4.769308, 5.025751, 0.661672]\n"
     ]
    }
   ],
   "source": [
    "def PoissonNumbers():\n",
    "    mean_list, med_list, z_R_list, z_Q_list, z_tr_list = [], [], [], [], []\n",
    "    all_list = [mean_list, med_list, z_R_list, z_Q_list, z_tr_list]\n",
    "    for size in sizes:\n",
    "        E, D = [], []    \n",
    "        for i in range(NUMBER_OF_REPETITIONS):\n",
    "            distribution = poisson.rvs(10, size=size)\n",
    "            mean_list.append(mean(distribution))\n",
    "            med_list.append(med(distribution))\n",
    "            z_R_list.append(z_R(distribution, size))\n",
    "            z_Q_list.append(z_Q(distribution, size))\n",
    "            z_tr_list.append(z_tr(distribution, size))\n",
    "        for lis in all_list:\n",
    "            E.append(round(mean(lis), 6))\n",
    "            D.append(round(dispersion(lis), 6))\n",
    "        print(E)\n",
    "        print(D)\n",
    "    return\n",
    "PoissonNumbers()"
   ]
  },
  {
   "cell_type": "markdown",
   "metadata": {},
   "source": [
    "Функция построения таблицы равномерного распределения"
   ]
  },
  {
   "cell_type": "code",
   "execution_count": 81,
   "metadata": {
    "scrolled": true
   },
   "outputs": [
    {
     "name": "stdout",
     "output_type": "stream",
     "text": [
      "[-0.003058, -0.008189, -0.008308, -0.058391, -0.000635]\n",
      "[0.10312, 0.240584, 0.509498, 0.516179, 0.171744]\n",
      "[-0.001261, -0.005273, -0.013241, -0.026719, -0.001152]\n",
      "[0.056234, 0.134553, 0.506669, 0.513444, 0.095636]\n",
      "[-0.000621, -0.003033, -0.005643, -0.017729, -0.000709]\n",
      "[0.037829, 0.090714, 0.499291, 0.501763, 0.064392]\n"
     ]
    }
   ],
   "source": [
    "def UniformNumbers():\n",
    "    mean_list, med_list, z_R_list, z_Q_list, z_tr_list = [], [], [], [], []\n",
    "    all_list = [mean_list, med_list, z_R_list, z_Q_list, z_tr_list]\n",
    "    for size in sizes:\n",
    "        E, D = [], []    \n",
    "        for i in range(NUMBER_OF_REPETITIONS):\n",
    "            distribution = uniform.rvs(size=size, loc=-m.sqrt(3), scale=2 * m.sqrt(3))\n",
    "            mean_list.append(mean(distribution))\n",
    "            med_list.append(med(distribution))\n",
    "            z_R_list.append(z_R(distribution, size))\n",
    "            z_Q_list.append(z_Q(distribution, size))\n",
    "            z_tr_list.append(z_tr(distribution, size))\n",
    "        for lis in all_list:\n",
    "            E.append(round(mean(lis), 6))\n",
    "            D.append(round(dispersion(lis), 6))\n",
    "        print(E)\n",
    "        print(D)\n",
    "    return\n",
    "UniformNumbers()"
   ]
  }
 ],
 "metadata": {
  "kernelspec": {
   "display_name": "Python 3",
   "language": "python",
   "name": "python3"
  },
  "language_info": {
   "codemirror_mode": {
    "name": "ipython",
    "version": 3
   },
   "file_extension": ".py",
   "mimetype": "text/x-python",
   "name": "python",
   "nbconvert_exporter": "python",
   "pygments_lexer": "ipython3",
   "version": "3.8.5"
  }
 },
 "nbformat": 4,
 "nbformat_minor": 4
}
